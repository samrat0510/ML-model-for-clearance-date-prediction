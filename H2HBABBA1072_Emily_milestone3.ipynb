{
 "cells": [
  {
   "cell_type": "markdown",
   "id": "830e6b0d",
   "metadata": {},
   "source": [
    "# Steps to be done\n",
    "\n",
    "### 1. Having a complete overview of the problem statement\n",
    "### 2. Importing Required Packages\n",
    "### 3. Data Preprocessing\n",
    "### 4. Splitting of Dataset\n",
    "### 5. Exploratory Data Analysis, i.e, EDA\n",
    "### 6. Feature Engineering and Feature Selection\n",
    "### 7. Creating the model, i.e, Modelling and analysing accuracy\n",
    "### 8. Predicting the value required  and sorting them in buckets"
   ]
  },
  {
   "cell_type": "markdown",
   "id": "5fcb40ad",
   "metadata": {},
   "source": [
    "# 2. Importing Required Packages"
   ]
  },
  {
   "cell_type": "code",
   "execution_count": 2392,
   "id": "9328cb2a",
   "metadata": {},
   "outputs": [],
   "source": [
    "import pandas as pd\n",
    "import numpy as np\n",
    "import seaborn as sns\n",
    "import matplotlib.pyplot as plt\n",
    "import warnings\n",
    "warnings.filterwarnings(\"ignore\")\n",
    "data=pd.read_csv('H2HBABBA1072.csv')"
   ]
  },
  {
   "cell_type": "markdown",
   "id": "42f0b339",
   "metadata": {},
   "source": [
    "#### Now, I have imported the required python packages and the data set on which I have to work on.\n",
    "#### I will move ahead to next part, i.e, the data preprocessing."
   ]
  },
  {
   "cell_type": "markdown",
   "id": "3051d880",
   "metadata": {},
   "source": [
    "# 3. Data Preprocessing"
   ]
  },
  {
   "cell_type": "code",
   "execution_count": 2393,
   "id": "5ee02063",
   "metadata": {},
   "outputs": [],
   "source": [
    "data.shape\n",
    "original=data.copy()"
   ]
  },
  {
   "cell_type": "code",
   "execution_count": 2394,
   "id": "02b68df1",
   "metadata": {},
   "outputs": [
    {
     "data": {
      "text/plain": [
       "Index(['business_code', 'cust_number', 'name_customer', 'clear_date',\n",
       "       'buisness_year', 'doc_id', 'posting_date', 'document_create_date',\n",
       "       'document_create_date.1', 'due_in_date', 'invoice_currency',\n",
       "       'document type', 'posting_id', 'area_business', 'total_open_amount',\n",
       "       'baseline_create_date', 'cust_payment_terms', 'invoice_id', 'isOpen'],\n",
       "      dtype='object')"
      ]
     },
     "execution_count": 2394,
     "metadata": {},
     "output_type": "execute_result"
    }
   ],
   "source": [
    "data.columns"
   ]
  },
  {
   "cell_type": "code",
   "execution_count": 2395,
   "id": "1407eba8",
   "metadata": {},
   "outputs": [
    {
     "name": "stdout",
     "output_type": "stream",
     "text": [
      "<class 'pandas.core.frame.DataFrame'>\n",
      "RangeIndex: 50000 entries, 0 to 49999\n",
      "Data columns (total 19 columns):\n",
      " #   Column                  Non-Null Count  Dtype  \n",
      "---  ------                  --------------  -----  \n",
      " 0   business_code           50000 non-null  object \n",
      " 1   cust_number             50000 non-null  object \n",
      " 2   name_customer           50000 non-null  object \n",
      " 3   clear_date              40000 non-null  object \n",
      " 4   buisness_year           50000 non-null  float64\n",
      " 5   doc_id                  50000 non-null  float64\n",
      " 6   posting_date            50000 non-null  object \n",
      " 7   document_create_date    50000 non-null  int64  \n",
      " 8   document_create_date.1  50000 non-null  int64  \n",
      " 9   due_in_date             50000 non-null  float64\n",
      " 10  invoice_currency        50000 non-null  object \n",
      " 11  document type           50000 non-null  object \n",
      " 12  posting_id              50000 non-null  float64\n",
      " 13  area_business           0 non-null      float64\n",
      " 14  total_open_amount       50000 non-null  float64\n",
      " 15  baseline_create_date    50000 non-null  float64\n",
      " 16  cust_payment_terms      50000 non-null  object \n",
      " 17  invoice_id              49997 non-null  float64\n",
      " 18  isOpen                  50000 non-null  int64  \n",
      "dtypes: float64(8), int64(3), object(8)\n",
      "memory usage: 7.2+ MB\n"
     ]
    }
   ],
   "source": [
    "data.info()"
   ]
  },
  {
   "cell_type": "markdown",
   "id": "347aa01e",
   "metadata": {},
   "source": [
    "#### Before cleaning the dataset, let's have a go through of what each of the feature means:\n",
    "\n",
    "#### 1. business_code: Every company has been categorised in to codes like U001, U002, CA02 etc, inidicating the code of the account.\n",
    "\n",
    "#### 2. cust_number: It's basically a set of random numbers provided to all the customers with accounts.\n",
    "\n",
    "#### 3. name_customer: Name of the customer\n",
    "\n",
    "#### 4. clear_date: It indicates the date on which the customer cleared the invoice or made the complete payment.\n",
    "\n",
    "#### 5. business_year: Year of the clear_date, or simply, the  year in which the transaction took place.\n",
    "\n",
    "#### 6. doc_id: A random number generated against the document specifying the particular transaction.\n",
    "\n",
    "#### 7. document_create_date: It indicates the date on which the invoice was generated against the credit.\n",
    "\n",
    "#### 8. due_in_date: It indicates the date before which the customer is supposed to clear the invoice.\n",
    "\n",
    "#### 9. invoice_currency: Indicates whether the company's transaction is in USD or CAD.\n",
    "\n",
    "#### 10. document type: Type of invoice\n",
    "\n",
    "#### 11. posting_id: Key identifier of the document being an invoice, a credit memo or any other.\n",
    "\n",
    "#### 12. area_business: Area where the invoice was generated and the transaction took place.\n",
    "\n",
    "#### 13. total_open_amount: Outstanding amount to be paid by the customer against the invoice.\n",
    "\n",
    "#### 14. cust_payment_terms: Indicates the business term and the agreement between customer  and their accounts.\n",
    "\n",
    "#### 15. invoice_id: Unique number generated for indicating every transaction.\n",
    "\n",
    "#### 16. isOpen: Indicates whether the invoice has been cleared or still pending."
   ]
  },
  {
   "cell_type": "markdown",
   "id": "3c88e1fb",
   "metadata": {},
   "source": [
    "## Data Cleaning"
   ]
  },
  {
   "cell_type": "code",
   "execution_count": 2396,
   "id": "caa36034",
   "metadata": {},
   "outputs": [
    {
     "data": {
      "text/plain": [
       "business_code                 0\n",
       "cust_number                   0\n",
       "name_customer                 0\n",
       "clear_date                10000\n",
       "buisness_year                 0\n",
       "doc_id                        0\n",
       "posting_date                  0\n",
       "document_create_date          0\n",
       "document_create_date.1        0\n",
       "due_in_date                   0\n",
       "invoice_currency              0\n",
       "document type                 0\n",
       "posting_id                    0\n",
       "area_business             50000\n",
       "total_open_amount             0\n",
       "baseline_create_date          0\n",
       "cust_payment_terms            0\n",
       "invoice_id                    3\n",
       "isOpen                        0\n",
       "dtype: int64"
      ]
     },
     "execution_count": 2396,
     "metadata": {},
     "output_type": "execute_result"
    }
   ],
   "source": [
    "data.isnull().sum()   # Calculating sum of null values present in each feature"
   ]
  },
  {
   "cell_type": "markdown",
   "id": "01111fa7",
   "metadata": {},
   "source": [
    "### Null Values :-\n",
    "#### clear_date- 1000, area_business- 50000, invoice_id- 3"
   ]
  },
  {
   "cell_type": "markdown",
   "id": "387c4a73",
   "metadata": {},
   "source": [
    "### Analysing data"
   ]
  },
  {
   "cell_type": "code",
   "execution_count": 2397,
   "id": "6706b8dd",
   "metadata": {},
   "outputs": [
    {
     "data": {
      "text/html": [
       "<div>\n",
       "<style scoped>\n",
       "    .dataframe tbody tr th:only-of-type {\n",
       "        vertical-align: middle;\n",
       "    }\n",
       "\n",
       "    .dataframe tbody tr th {\n",
       "        vertical-align: top;\n",
       "    }\n",
       "\n",
       "    .dataframe thead th {\n",
       "        text-align: right;\n",
       "    }\n",
       "</style>\n",
       "<table border=\"1\" class=\"dataframe\">\n",
       "  <thead>\n",
       "    <tr style=\"text-align: right;\">\n",
       "      <th></th>\n",
       "      <th>business_code</th>\n",
       "      <th>cust_number</th>\n",
       "      <th>name_customer</th>\n",
       "      <th>clear_date</th>\n",
       "      <th>buisness_year</th>\n",
       "      <th>doc_id</th>\n",
       "      <th>posting_date</th>\n",
       "      <th>document_create_date</th>\n",
       "      <th>document_create_date.1</th>\n",
       "      <th>due_in_date</th>\n",
       "      <th>invoice_currency</th>\n",
       "      <th>document type</th>\n",
       "      <th>posting_id</th>\n",
       "      <th>area_business</th>\n",
       "      <th>total_open_amount</th>\n",
       "      <th>baseline_create_date</th>\n",
       "      <th>cust_payment_terms</th>\n",
       "      <th>invoice_id</th>\n",
       "      <th>isOpen</th>\n",
       "    </tr>\n",
       "  </thead>\n",
       "  <tbody>\n",
       "    <tr>\n",
       "      <th>0</th>\n",
       "      <td>U001</td>\n",
       "      <td>0200803720</td>\n",
       "      <td>DEC associates</td>\n",
       "      <td>NaN</td>\n",
       "      <td>2020.0</td>\n",
       "      <td>1.930863e+09</td>\n",
       "      <td>2020-05-06</td>\n",
       "      <td>20200506</td>\n",
       "      <td>20200506</td>\n",
       "      <td>20200524.0</td>\n",
       "      <td>USD</td>\n",
       "      <td>RV</td>\n",
       "      <td>1.0</td>\n",
       "      <td>NaN</td>\n",
       "      <td>61.14</td>\n",
       "      <td>20200501.0</td>\n",
       "      <td>NAM4</td>\n",
       "      <td>1.930863e+09</td>\n",
       "      <td>1</td>\n",
       "    </tr>\n",
       "    <tr>\n",
       "      <th>1</th>\n",
       "      <td>U001</td>\n",
       "      <td>0100043936</td>\n",
       "      <td>PAPA JO in</td>\n",
       "      <td>2020-01-30 00:00:00</td>\n",
       "      <td>2020.0</td>\n",
       "      <td>1.930416e+09</td>\n",
       "      <td>2020-01-20</td>\n",
       "      <td>20200120</td>\n",
       "      <td>20200120</td>\n",
       "      <td>20200130.0</td>\n",
       "      <td>USD</td>\n",
       "      <td>RV</td>\n",
       "      <td>1.0</td>\n",
       "      <td>NaN</td>\n",
       "      <td>15026.34</td>\n",
       "      <td>20200120.0</td>\n",
       "      <td>NA10</td>\n",
       "      <td>1.930416e+09</td>\n",
       "      <td>0</td>\n",
       "    </tr>\n",
       "    <tr>\n",
       "      <th>2</th>\n",
       "      <td>U001</td>\n",
       "      <td>0200856934</td>\n",
       "      <td>GARDEN co</td>\n",
       "      <td>2019-01-25 00:00:00</td>\n",
       "      <td>2019.0</td>\n",
       "      <td>1.928605e+09</td>\n",
       "      <td>2019-01-21</td>\n",
       "      <td>20190110</td>\n",
       "      <td>20190121</td>\n",
       "      <td>20190205.0</td>\n",
       "      <td>USD</td>\n",
       "      <td>RV</td>\n",
       "      <td>1.0</td>\n",
       "      <td>NaN</td>\n",
       "      <td>10885.20</td>\n",
       "      <td>20190121.0</td>\n",
       "      <td>NAA8</td>\n",
       "      <td>1.928605e+09</td>\n",
       "      <td>0</td>\n",
       "    </tr>\n",
       "    <tr>\n",
       "      <th>3</th>\n",
       "      <td>CA02</td>\n",
       "      <td>0140104429</td>\n",
       "      <td>COSTCO</td>\n",
       "      <td>2020-02-03 00:00:00</td>\n",
       "      <td>2020.0</td>\n",
       "      <td>2.960607e+09</td>\n",
       "      <td>2020-01-11</td>\n",
       "      <td>20200111</td>\n",
       "      <td>20200111</td>\n",
       "      <td>20200129.0</td>\n",
       "      <td>CAD</td>\n",
       "      <td>RV</td>\n",
       "      <td>1.0</td>\n",
       "      <td>NaN</td>\n",
       "      <td>68395.74</td>\n",
       "      <td>20200119.0</td>\n",
       "      <td>CA10</td>\n",
       "      <td>2.960607e+09</td>\n",
       "      <td>0</td>\n",
       "    </tr>\n",
       "    <tr>\n",
       "      <th>4</th>\n",
       "      <td>U001</td>\n",
       "      <td>0200781803</td>\n",
       "      <td>JRD foundation</td>\n",
       "      <td>2020-03-09 00:00:00</td>\n",
       "      <td>2020.0</td>\n",
       "      <td>1.930534e+09</td>\n",
       "      <td>2020-02-17</td>\n",
       "      <td>20200217</td>\n",
       "      <td>20200217</td>\n",
       "      <td>20200308.0</td>\n",
       "      <td>USD</td>\n",
       "      <td>RV</td>\n",
       "      <td>1.0</td>\n",
       "      <td>NaN</td>\n",
       "      <td>4309.86</td>\n",
       "      <td>20200217.0</td>\n",
       "      <td>NAD1</td>\n",
       "      <td>1.930534e+09</td>\n",
       "      <td>0</td>\n",
       "    </tr>\n",
       "    <tr>\n",
       "      <th>...</th>\n",
       "      <td>...</td>\n",
       "      <td>...</td>\n",
       "      <td>...</td>\n",
       "      <td>...</td>\n",
       "      <td>...</td>\n",
       "      <td>...</td>\n",
       "      <td>...</td>\n",
       "      <td>...</td>\n",
       "      <td>...</td>\n",
       "      <td>...</td>\n",
       "      <td>...</td>\n",
       "      <td>...</td>\n",
       "      <td>...</td>\n",
       "      <td>...</td>\n",
       "      <td>...</td>\n",
       "      <td>...</td>\n",
       "      <td>...</td>\n",
       "      <td>...</td>\n",
       "      <td>...</td>\n",
       "    </tr>\n",
       "    <tr>\n",
       "      <th>49995</th>\n",
       "      <td>U001</td>\n",
       "      <td>CCCA02</td>\n",
       "      <td>KRAFT</td>\n",
       "      <td>2019-05-03 00:00:00</td>\n",
       "      <td>2019.0</td>\n",
       "      <td>1.928920e+09</td>\n",
       "      <td>2019-03-09</td>\n",
       "      <td>20190307</td>\n",
       "      <td>20190309</td>\n",
       "      <td>20190413.0</td>\n",
       "      <td>USD</td>\n",
       "      <td>RV</td>\n",
       "      <td>1.0</td>\n",
       "      <td>NaN</td>\n",
       "      <td>32623.10</td>\n",
       "      <td>20190309.0</td>\n",
       "      <td>NAG2</td>\n",
       "      <td>1.928920e+09</td>\n",
       "      <td>0</td>\n",
       "    </tr>\n",
       "    <tr>\n",
       "      <th>49996</th>\n",
       "      <td>CA02</td>\n",
       "      <td>0140105963</td>\n",
       "      <td>KEYBRA corporation</td>\n",
       "      <td>2019-02-15 00:00:00</td>\n",
       "      <td>2019.0</td>\n",
       "      <td>2.960526e+09</td>\n",
       "      <td>2019-01-29</td>\n",
       "      <td>20190129</td>\n",
       "      <td>20190129</td>\n",
       "      <td>20190210.0</td>\n",
       "      <td>CAD</td>\n",
       "      <td>RV</td>\n",
       "      <td>1.0</td>\n",
       "      <td>NaN</td>\n",
       "      <td>36596.04</td>\n",
       "      <td>20190131.0</td>\n",
       "      <td>CA10</td>\n",
       "      <td>2.960526e+09</td>\n",
       "      <td>0</td>\n",
       "    </tr>\n",
       "    <tr>\n",
       "      <th>49997</th>\n",
       "      <td>U001</td>\n",
       "      <td>0200943275</td>\n",
       "      <td>US</td>\n",
       "      <td>2019-04-01 00:00:00</td>\n",
       "      <td>2019.0</td>\n",
       "      <td>1.928957e+09</td>\n",
       "      <td>2019-03-14</td>\n",
       "      <td>20190313</td>\n",
       "      <td>20190314</td>\n",
       "      <td>20190329.0</td>\n",
       "      <td>USD</td>\n",
       "      <td>RV</td>\n",
       "      <td>1.0</td>\n",
       "      <td>NaN</td>\n",
       "      <td>39655.19</td>\n",
       "      <td>20190314.0</td>\n",
       "      <td>NAA8</td>\n",
       "      <td>1.928957e+09</td>\n",
       "      <td>0</td>\n",
       "    </tr>\n",
       "    <tr>\n",
       "      <th>49998</th>\n",
       "      <td>U001</td>\n",
       "      <td>0200762301</td>\n",
       "      <td>C&amp;S WH in</td>\n",
       "      <td>2019-10-23 00:00:00</td>\n",
       "      <td>2019.0</td>\n",
       "      <td>1.929976e+09</td>\n",
       "      <td>2019-10-08</td>\n",
       "      <td>20191006</td>\n",
       "      <td>20191008</td>\n",
       "      <td>20191023.0</td>\n",
       "      <td>USD</td>\n",
       "      <td>RV</td>\n",
       "      <td>1.0</td>\n",
       "      <td>NaN</td>\n",
       "      <td>82545.30</td>\n",
       "      <td>20191008.0</td>\n",
       "      <td>NAC6</td>\n",
       "      <td>1.929976e+09</td>\n",
       "      <td>0</td>\n",
       "    </tr>\n",
       "    <tr>\n",
       "      <th>49999</th>\n",
       "      <td>U001</td>\n",
       "      <td>0200759878</td>\n",
       "      <td>SA trust</td>\n",
       "      <td>2019-12-23 00:00:00</td>\n",
       "      <td>2019.0</td>\n",
       "      <td>1.930220e+09</td>\n",
       "      <td>2019-12-06</td>\n",
       "      <td>20191205</td>\n",
       "      <td>20191206</td>\n",
       "      <td>20191221.0</td>\n",
       "      <td>USD</td>\n",
       "      <td>RV</td>\n",
       "      <td>1.0</td>\n",
       "      <td>NaN</td>\n",
       "      <td>13891.02</td>\n",
       "      <td>20191206.0</td>\n",
       "      <td>NAH4</td>\n",
       "      <td>1.930220e+09</td>\n",
       "      <td>0</td>\n",
       "    </tr>\n",
       "  </tbody>\n",
       "</table>\n",
       "<p>50000 rows × 19 columns</p>\n",
       "</div>"
      ],
      "text/plain": [
       "      business_code cust_number       name_customer           clear_date  \\\n",
       "0              U001  0200803720      DEC associates                  NaN   \n",
       "1              U001  0100043936          PAPA JO in  2020-01-30 00:00:00   \n",
       "2              U001  0200856934           GARDEN co  2019-01-25 00:00:00   \n",
       "3              CA02  0140104429             COSTCO   2020-02-03 00:00:00   \n",
       "4              U001  0200781803      JRD foundation  2020-03-09 00:00:00   \n",
       "...             ...         ...                 ...                  ...   \n",
       "49995          U001      CCCA02             KRAFT    2019-05-03 00:00:00   \n",
       "49996          CA02  0140105963  KEYBRA corporation  2019-02-15 00:00:00   \n",
       "49997          U001  0200943275                US    2019-04-01 00:00:00   \n",
       "49998          U001  0200762301           C&S WH in  2019-10-23 00:00:00   \n",
       "49999          U001  0200759878            SA trust  2019-12-23 00:00:00   \n",
       "\n",
       "       buisness_year        doc_id posting_date  document_create_date  \\\n",
       "0             2020.0  1.930863e+09   2020-05-06              20200506   \n",
       "1             2020.0  1.930416e+09   2020-01-20              20200120   \n",
       "2             2019.0  1.928605e+09   2019-01-21              20190110   \n",
       "3             2020.0  2.960607e+09   2020-01-11              20200111   \n",
       "4             2020.0  1.930534e+09   2020-02-17              20200217   \n",
       "...              ...           ...          ...                   ...   \n",
       "49995         2019.0  1.928920e+09   2019-03-09              20190307   \n",
       "49996         2019.0  2.960526e+09   2019-01-29              20190129   \n",
       "49997         2019.0  1.928957e+09   2019-03-14              20190313   \n",
       "49998         2019.0  1.929976e+09   2019-10-08              20191006   \n",
       "49999         2019.0  1.930220e+09   2019-12-06              20191205   \n",
       "\n",
       "       document_create_date.1  due_in_date invoice_currency document type  \\\n",
       "0                    20200506   20200524.0              USD            RV   \n",
       "1                    20200120   20200130.0              USD            RV   \n",
       "2                    20190121   20190205.0              USD            RV   \n",
       "3                    20200111   20200129.0              CAD            RV   \n",
       "4                    20200217   20200308.0              USD            RV   \n",
       "...                       ...          ...              ...           ...   \n",
       "49995                20190309   20190413.0              USD            RV   \n",
       "49996                20190129   20190210.0              CAD            RV   \n",
       "49997                20190314   20190329.0              USD            RV   \n",
       "49998                20191008   20191023.0              USD            RV   \n",
       "49999                20191206   20191221.0              USD            RV   \n",
       "\n",
       "       posting_id  area_business  total_open_amount  baseline_create_date  \\\n",
       "0             1.0            NaN              61.14            20200501.0   \n",
       "1             1.0            NaN           15026.34            20200120.0   \n",
       "2             1.0            NaN           10885.20            20190121.0   \n",
       "3             1.0            NaN           68395.74            20200119.0   \n",
       "4             1.0            NaN            4309.86            20200217.0   \n",
       "...           ...            ...                ...                   ...   \n",
       "49995         1.0            NaN           32623.10            20190309.0   \n",
       "49996         1.0            NaN           36596.04            20190131.0   \n",
       "49997         1.0            NaN           39655.19            20190314.0   \n",
       "49998         1.0            NaN           82545.30            20191008.0   \n",
       "49999         1.0            NaN           13891.02            20191206.0   \n",
       "\n",
       "      cust_payment_terms    invoice_id  isOpen  \n",
       "0                   NAM4  1.930863e+09       1  \n",
       "1                   NA10  1.930416e+09       0  \n",
       "2                   NAA8  1.928605e+09       0  \n",
       "3                   CA10  2.960607e+09       0  \n",
       "4                   NAD1  1.930534e+09       0  \n",
       "...                  ...           ...     ...  \n",
       "49995               NAG2  1.928920e+09       0  \n",
       "49996               CA10  2.960526e+09       0  \n",
       "49997               NAA8  1.928957e+09       0  \n",
       "49998               NAC6  1.929976e+09       0  \n",
       "49999               NAH4  1.930220e+09       0  \n",
       "\n",
       "[50000 rows x 19 columns]"
      ]
     },
     "execution_count": 2397,
     "metadata": {},
     "output_type": "execute_result"
    }
   ],
   "source": [
    "data"
   ]
  },
  {
   "cell_type": "code",
   "execution_count": 2398,
   "id": "1f5f5a9c",
   "metadata": {},
   "outputs": [
    {
     "data": {
      "text/plain": [
       "1.0    50000\n",
       "Name: posting_id, dtype: int64"
      ]
     },
     "execution_count": 2398,
     "metadata": {},
     "output_type": "execute_result"
    }
   ],
   "source": [
    "data['posting_id'].value_counts()"
   ]
  },
  {
   "cell_type": "code",
   "execution_count": 2399,
   "id": "0e5d05d6",
   "metadata": {},
   "outputs": [
    {
     "data": {
      "text/plain": [
       "RV    49997\n",
       "X2        3\n",
       "Name: document type, dtype: int64"
      ]
     },
     "execution_count": 2399,
     "metadata": {},
     "output_type": "execute_result"
    }
   ],
   "source": [
    "data['document type'].value_counts()   #since only 3 values are varying, we can drop it as it won't affect the model much"
   ]
  },
  {
   "cell_type": "markdown",
   "id": "bde69270",
   "metadata": {},
   "source": [
    "#### 1. Analysing the above data, I saw that the ['area_business'] column contained complete null values.\n",
    "#### 2. the ['doc_id'] and the ['invoice_id'] were exactly same. So, one of them can be dropped.\n",
    "#### 3. ['posting_id], ['document_type'] is a constant column.\n",
    "#### 4. ['documen_create_date'] and ['document_create_date.1'] were duplicate columns and approximately every data in these feature  is similar to ['posting_date']. So, we can take only one of these.\n"
   ]
  },
  {
   "cell_type": "code",
   "execution_count": 2400,
   "id": "7dfe9087",
   "metadata": {},
   "outputs": [],
   "source": [
    "data.drop(columns=['area_business', 'posting_id', 'document type', 'document_create_date','document_create_date.1', 'doc_id'], axis=1, inplace=True)"
   ]
  },
  {
   "cell_type": "code",
   "execution_count": 2401,
   "id": "b99b7b58",
   "metadata": {},
   "outputs": [
    {
     "data": {
      "text/plain": [
       "business_code               0\n",
       "cust_number                 0\n",
       "name_customer               0\n",
       "clear_date              10000\n",
       "buisness_year               0\n",
       "posting_date                0\n",
       "due_in_date                 0\n",
       "invoice_currency            0\n",
       "total_open_amount           0\n",
       "baseline_create_date        0\n",
       "cust_payment_terms          0\n",
       "invoice_id                  3\n",
       "isOpen                      0\n",
       "dtype: int64"
      ]
     },
     "execution_count": 2401,
     "metadata": {},
     "output_type": "execute_result"
    }
   ],
   "source": [
    "data.isnull().sum()"
   ]
  },
  {
   "cell_type": "code",
   "execution_count": 2402,
   "id": "ed2b1f7e",
   "metadata": {},
   "outputs": [
    {
     "data": {
      "text/html": [
       "<div>\n",
       "<style scoped>\n",
       "    .dataframe tbody tr th:only-of-type {\n",
       "        vertical-align: middle;\n",
       "    }\n",
       "\n",
       "    .dataframe tbody tr th {\n",
       "        vertical-align: top;\n",
       "    }\n",
       "\n",
       "    .dataframe thead th {\n",
       "        text-align: right;\n",
       "    }\n",
       "</style>\n",
       "<table border=\"1\" class=\"dataframe\">\n",
       "  <thead>\n",
       "    <tr style=\"text-align: right;\">\n",
       "      <th></th>\n",
       "      <th>business_code</th>\n",
       "      <th>cust_number</th>\n",
       "      <th>name_customer</th>\n",
       "      <th>clear_date</th>\n",
       "      <th>buisness_year</th>\n",
       "      <th>posting_date</th>\n",
       "      <th>due_in_date</th>\n",
       "      <th>invoice_currency</th>\n",
       "      <th>total_open_amount</th>\n",
       "      <th>baseline_create_date</th>\n",
       "      <th>cust_payment_terms</th>\n",
       "      <th>invoice_id</th>\n",
       "      <th>isOpen</th>\n",
       "    </tr>\n",
       "  </thead>\n",
       "  <tbody>\n",
       "    <tr>\n",
       "      <th>0</th>\n",
       "      <td>U001</td>\n",
       "      <td>0200803720</td>\n",
       "      <td>DEC associates</td>\n",
       "      <td>NaN</td>\n",
       "      <td>2020.0</td>\n",
       "      <td>2020-05-06</td>\n",
       "      <td>20200524.0</td>\n",
       "      <td>USD</td>\n",
       "      <td>61.14</td>\n",
       "      <td>20200501.0</td>\n",
       "      <td>NAM4</td>\n",
       "      <td>1.930863e+09</td>\n",
       "      <td>1</td>\n",
       "    </tr>\n",
       "    <tr>\n",
       "      <th>1</th>\n",
       "      <td>U001</td>\n",
       "      <td>0100043936</td>\n",
       "      <td>PAPA JO in</td>\n",
       "      <td>2020-01-30 00:00:00</td>\n",
       "      <td>2020.0</td>\n",
       "      <td>2020-01-20</td>\n",
       "      <td>20200130.0</td>\n",
       "      <td>USD</td>\n",
       "      <td>15026.34</td>\n",
       "      <td>20200120.0</td>\n",
       "      <td>NA10</td>\n",
       "      <td>1.930416e+09</td>\n",
       "      <td>0</td>\n",
       "    </tr>\n",
       "    <tr>\n",
       "      <th>2</th>\n",
       "      <td>U001</td>\n",
       "      <td>0200856934</td>\n",
       "      <td>GARDEN co</td>\n",
       "      <td>2019-01-25 00:00:00</td>\n",
       "      <td>2019.0</td>\n",
       "      <td>2019-01-21</td>\n",
       "      <td>20190205.0</td>\n",
       "      <td>USD</td>\n",
       "      <td>10885.20</td>\n",
       "      <td>20190121.0</td>\n",
       "      <td>NAA8</td>\n",
       "      <td>1.928605e+09</td>\n",
       "      <td>0</td>\n",
       "    </tr>\n",
       "    <tr>\n",
       "      <th>3</th>\n",
       "      <td>CA02</td>\n",
       "      <td>0140104429</td>\n",
       "      <td>COSTCO</td>\n",
       "      <td>2020-02-03 00:00:00</td>\n",
       "      <td>2020.0</td>\n",
       "      <td>2020-01-11</td>\n",
       "      <td>20200129.0</td>\n",
       "      <td>CAD</td>\n",
       "      <td>68395.74</td>\n",
       "      <td>20200119.0</td>\n",
       "      <td>CA10</td>\n",
       "      <td>2.960607e+09</td>\n",
       "      <td>0</td>\n",
       "    </tr>\n",
       "    <tr>\n",
       "      <th>4</th>\n",
       "      <td>U001</td>\n",
       "      <td>0200781803</td>\n",
       "      <td>JRD foundation</td>\n",
       "      <td>2020-03-09 00:00:00</td>\n",
       "      <td>2020.0</td>\n",
       "      <td>2020-02-17</td>\n",
       "      <td>20200308.0</td>\n",
       "      <td>USD</td>\n",
       "      <td>4309.86</td>\n",
       "      <td>20200217.0</td>\n",
       "      <td>NAD1</td>\n",
       "      <td>1.930534e+09</td>\n",
       "      <td>0</td>\n",
       "    </tr>\n",
       "    <tr>\n",
       "      <th>...</th>\n",
       "      <td>...</td>\n",
       "      <td>...</td>\n",
       "      <td>...</td>\n",
       "      <td>...</td>\n",
       "      <td>...</td>\n",
       "      <td>...</td>\n",
       "      <td>...</td>\n",
       "      <td>...</td>\n",
       "      <td>...</td>\n",
       "      <td>...</td>\n",
       "      <td>...</td>\n",
       "      <td>...</td>\n",
       "      <td>...</td>\n",
       "    </tr>\n",
       "    <tr>\n",
       "      <th>49995</th>\n",
       "      <td>U001</td>\n",
       "      <td>CCCA02</td>\n",
       "      <td>KRAFT</td>\n",
       "      <td>2019-05-03 00:00:00</td>\n",
       "      <td>2019.0</td>\n",
       "      <td>2019-03-09</td>\n",
       "      <td>20190413.0</td>\n",
       "      <td>USD</td>\n",
       "      <td>32623.10</td>\n",
       "      <td>20190309.0</td>\n",
       "      <td>NAG2</td>\n",
       "      <td>1.928920e+09</td>\n",
       "      <td>0</td>\n",
       "    </tr>\n",
       "    <tr>\n",
       "      <th>49996</th>\n",
       "      <td>CA02</td>\n",
       "      <td>0140105963</td>\n",
       "      <td>KEYBRA corporation</td>\n",
       "      <td>2019-02-15 00:00:00</td>\n",
       "      <td>2019.0</td>\n",
       "      <td>2019-01-29</td>\n",
       "      <td>20190210.0</td>\n",
       "      <td>CAD</td>\n",
       "      <td>36596.04</td>\n",
       "      <td>20190131.0</td>\n",
       "      <td>CA10</td>\n",
       "      <td>2.960526e+09</td>\n",
       "      <td>0</td>\n",
       "    </tr>\n",
       "    <tr>\n",
       "      <th>49997</th>\n",
       "      <td>U001</td>\n",
       "      <td>0200943275</td>\n",
       "      <td>US</td>\n",
       "      <td>2019-04-01 00:00:00</td>\n",
       "      <td>2019.0</td>\n",
       "      <td>2019-03-14</td>\n",
       "      <td>20190329.0</td>\n",
       "      <td>USD</td>\n",
       "      <td>39655.19</td>\n",
       "      <td>20190314.0</td>\n",
       "      <td>NAA8</td>\n",
       "      <td>1.928957e+09</td>\n",
       "      <td>0</td>\n",
       "    </tr>\n",
       "    <tr>\n",
       "      <th>49998</th>\n",
       "      <td>U001</td>\n",
       "      <td>0200762301</td>\n",
       "      <td>C&amp;S WH in</td>\n",
       "      <td>2019-10-23 00:00:00</td>\n",
       "      <td>2019.0</td>\n",
       "      <td>2019-10-08</td>\n",
       "      <td>20191023.0</td>\n",
       "      <td>USD</td>\n",
       "      <td>82545.30</td>\n",
       "      <td>20191008.0</td>\n",
       "      <td>NAC6</td>\n",
       "      <td>1.929976e+09</td>\n",
       "      <td>0</td>\n",
       "    </tr>\n",
       "    <tr>\n",
       "      <th>49999</th>\n",
       "      <td>U001</td>\n",
       "      <td>0200759878</td>\n",
       "      <td>SA trust</td>\n",
       "      <td>2019-12-23 00:00:00</td>\n",
       "      <td>2019.0</td>\n",
       "      <td>2019-12-06</td>\n",
       "      <td>20191221.0</td>\n",
       "      <td>USD</td>\n",
       "      <td>13891.02</td>\n",
       "      <td>20191206.0</td>\n",
       "      <td>NAH4</td>\n",
       "      <td>1.930220e+09</td>\n",
       "      <td>0</td>\n",
       "    </tr>\n",
       "  </tbody>\n",
       "</table>\n",
       "<p>50000 rows × 13 columns</p>\n",
       "</div>"
      ],
      "text/plain": [
       "      business_code cust_number       name_customer           clear_date  \\\n",
       "0              U001  0200803720      DEC associates                  NaN   \n",
       "1              U001  0100043936          PAPA JO in  2020-01-30 00:00:00   \n",
       "2              U001  0200856934           GARDEN co  2019-01-25 00:00:00   \n",
       "3              CA02  0140104429             COSTCO   2020-02-03 00:00:00   \n",
       "4              U001  0200781803      JRD foundation  2020-03-09 00:00:00   \n",
       "...             ...         ...                 ...                  ...   \n",
       "49995          U001      CCCA02             KRAFT    2019-05-03 00:00:00   \n",
       "49996          CA02  0140105963  KEYBRA corporation  2019-02-15 00:00:00   \n",
       "49997          U001  0200943275                US    2019-04-01 00:00:00   \n",
       "49998          U001  0200762301           C&S WH in  2019-10-23 00:00:00   \n",
       "49999          U001  0200759878            SA trust  2019-12-23 00:00:00   \n",
       "\n",
       "       buisness_year posting_date  due_in_date invoice_currency  \\\n",
       "0             2020.0   2020-05-06   20200524.0              USD   \n",
       "1             2020.0   2020-01-20   20200130.0              USD   \n",
       "2             2019.0   2019-01-21   20190205.0              USD   \n",
       "3             2020.0   2020-01-11   20200129.0              CAD   \n",
       "4             2020.0   2020-02-17   20200308.0              USD   \n",
       "...              ...          ...          ...              ...   \n",
       "49995         2019.0   2019-03-09   20190413.0              USD   \n",
       "49996         2019.0   2019-01-29   20190210.0              CAD   \n",
       "49997         2019.0   2019-03-14   20190329.0              USD   \n",
       "49998         2019.0   2019-10-08   20191023.0              USD   \n",
       "49999         2019.0   2019-12-06   20191221.0              USD   \n",
       "\n",
       "       total_open_amount  baseline_create_date cust_payment_terms  \\\n",
       "0                  61.14            20200501.0               NAM4   \n",
       "1               15026.34            20200120.0               NA10   \n",
       "2               10885.20            20190121.0               NAA8   \n",
       "3               68395.74            20200119.0               CA10   \n",
       "4                4309.86            20200217.0               NAD1   \n",
       "...                  ...                   ...                ...   \n",
       "49995           32623.10            20190309.0               NAG2   \n",
       "49996           36596.04            20190131.0               CA10   \n",
       "49997           39655.19            20190314.0               NAA8   \n",
       "49998           82545.30            20191008.0               NAC6   \n",
       "49999           13891.02            20191206.0               NAH4   \n",
       "\n",
       "         invoice_id  isOpen  \n",
       "0      1.930863e+09       1  \n",
       "1      1.930416e+09       0  \n",
       "2      1.928605e+09       0  \n",
       "3      2.960607e+09       0  \n",
       "4      1.930534e+09       0  \n",
       "...             ...     ...  \n",
       "49995  1.928920e+09       0  \n",
       "49996  2.960526e+09       0  \n",
       "49997  1.928957e+09       0  \n",
       "49998  1.929976e+09       0  \n",
       "49999  1.930220e+09       0  \n",
       "\n",
       "[50000 rows x 13 columns]"
      ]
     },
     "execution_count": 2402,
     "metadata": {},
     "output_type": "execute_result"
    }
   ],
   "source": [
    "data          #Now, we are left with 10000 null clear_date and 3 null invoice_id."
   ]
  },
  {
   "cell_type": "markdown",
   "id": "4a72556c",
   "metadata": {},
   "source": [
    "#### Since, invoice_id is null, we can assume that it would be case that the user forgot to fill the cell or chose not to fill, case being invoice cleared or anything. Considering it a case of MCAR (Missing Completely At Random), I will drop those rows which have null invoice_id because the count is only 3 and it won't affect the model for prediction of a dataset of 50000."
   ]
  },
  {
   "cell_type": "code",
   "execution_count": 2403,
   "id": "756f02e7",
   "metadata": {},
   "outputs": [
    {
     "data": {
      "text/plain": [
       "business_code               0\n",
       "cust_number                 0\n",
       "name_customer               0\n",
       "clear_date              10000\n",
       "buisness_year               0\n",
       "posting_date                0\n",
       "due_in_date                 0\n",
       "invoice_currency            0\n",
       "total_open_amount           0\n",
       "baseline_create_date        0\n",
       "cust_payment_terms          0\n",
       "invoice_id                  0\n",
       "isOpen                      0\n",
       "dtype: int64"
      ]
     },
     "execution_count": 2403,
     "metadata": {},
     "output_type": "execute_result"
    }
   ],
   "source": [
    "data.dropna(subset=['invoice_id'], axis=0, inplace=True)\n",
    "data.isnull().sum()\n"
   ]
  },
  {
   "cell_type": "markdown",
   "id": "eabf63f4",
   "metadata": {},
   "source": [
    "#### Now, we have no null invoice_id. So, we can drop the ['invoice_id'] feature as it is a random number generated against a transaction and is of no use in the prediction part."
   ]
  },
  {
   "cell_type": "code",
   "execution_count": 2404,
   "id": "edaa8c18",
   "metadata": {},
   "outputs": [
    {
     "name": "stdout",
     "output_type": "stream",
     "text": [
      "<class 'pandas.core.frame.DataFrame'>\n",
      "Int64Index: 49997 entries, 0 to 49999\n",
      "Data columns (total 12 columns):\n",
      " #   Column                Non-Null Count  Dtype  \n",
      "---  ------                --------------  -----  \n",
      " 0   business_code         49997 non-null  object \n",
      " 1   cust_number           49997 non-null  object \n",
      " 2   name_customer         49997 non-null  object \n",
      " 3   clear_date            39997 non-null  object \n",
      " 4   buisness_year         49997 non-null  float64\n",
      " 5   posting_date          49997 non-null  object \n",
      " 6   due_in_date           49997 non-null  float64\n",
      " 7   invoice_currency      49997 non-null  object \n",
      " 8   total_open_amount     49997 non-null  float64\n",
      " 9   baseline_create_date  49997 non-null  float64\n",
      " 10  cust_payment_terms    49997 non-null  object \n",
      " 11  isOpen                49997 non-null  int64  \n",
      "dtypes: float64(4), int64(1), object(7)\n",
      "memory usage: 5.0+ MB\n"
     ]
    }
   ],
   "source": [
    "data.drop(['invoice_id'], axis=1, inplace=True)\n",
    "data.info()"
   ]
  },
  {
   "cell_type": "markdown",
   "id": "b2b72df5",
   "metadata": {},
   "source": [
    "#### Moving ahead and working on the dates\n",
    "#### Conversion of all the dates from object into datetime type for the calculation"
   ]
  },
  {
   "cell_type": "code",
   "execution_count": 2405,
   "id": "a627ec74",
   "metadata": {},
   "outputs": [
    {
     "data": {
      "text/plain": [
       "0          NaT\n",
       "1   2020-01-30\n",
       "2   2019-01-25\n",
       "3   2020-02-03\n",
       "4   2020-03-09\n",
       "Name: clear_date, dtype: datetime64[ns]"
      ]
     },
     "execution_count": 2405,
     "metadata": {},
     "output_type": "execute_result"
    }
   ],
   "source": [
    "data['clear_date']=pd.to_datetime(data['clear_date'], format='%Y%m%d %H:%M:%S')\n",
    "data['clear_date'].head()"
   ]
  },
  {
   "cell_type": "code",
   "execution_count": 2406,
   "id": "757f9c57",
   "metadata": {},
   "outputs": [],
   "source": [
    "data['posting_date']=pd.to_datetime(data['posting_date'], format='%Y-%m-%d')\n",
    "data['due_in_date']=pd.to_datetime(data['due_in_date'], format='%Y%m%d')\n",
    "data['baseline_create_date']=pd.to_datetime(data['baseline_create_date'], format='%Y%m%d')"
   ]
  },
  {
   "cell_type": "markdown",
   "id": "e949cd98",
   "metadata": {},
   "source": [
    "### Delay= Clear_Date- Due_Date. It basically indicates how sooner or later the invoice was cleared.\n",
    "#### -ve value indicates the invoice was cleared before the due_date and +ve value indicates the opposite."
   ]
  },
  {
   "cell_type": "code",
   "execution_count": 2407,
   "id": "5d92b959",
   "metadata": {},
   "outputs": [],
   "source": [
    "data['delay']=(data['clear_date']-data['due_in_date']).dt.days"
   ]
  },
  {
   "cell_type": "markdown",
   "id": "395dfcc9",
   "metadata": {},
   "source": [
    "#### I decided to sort the data according to posting_date to have a look over about what time period of transactions I am working on."
   ]
  },
  {
   "cell_type": "code",
   "execution_count": 2408,
   "id": "f3103264",
   "metadata": {},
   "outputs": [
    {
     "data": {
      "text/html": [
       "<div>\n",
       "<style scoped>\n",
       "    .dataframe tbody tr th:only-of-type {\n",
       "        vertical-align: middle;\n",
       "    }\n",
       "\n",
       "    .dataframe tbody tr th {\n",
       "        vertical-align: top;\n",
       "    }\n",
       "\n",
       "    .dataframe thead th {\n",
       "        text-align: right;\n",
       "    }\n",
       "</style>\n",
       "<table border=\"1\" class=\"dataframe\">\n",
       "  <thead>\n",
       "    <tr style=\"text-align: right;\">\n",
       "      <th></th>\n",
       "      <th>business_code</th>\n",
       "      <th>cust_number</th>\n",
       "      <th>name_customer</th>\n",
       "      <th>clear_date</th>\n",
       "      <th>buisness_year</th>\n",
       "      <th>posting_date</th>\n",
       "      <th>due_in_date</th>\n",
       "      <th>invoice_currency</th>\n",
       "      <th>total_open_amount</th>\n",
       "      <th>baseline_create_date</th>\n",
       "      <th>cust_payment_terms</th>\n",
       "      <th>isOpen</th>\n",
       "      <th>delay</th>\n",
       "    </tr>\n",
       "  </thead>\n",
       "  <tbody>\n",
       "    <tr>\n",
       "      <th>17651</th>\n",
       "      <td>U001</td>\n",
       "      <td>0200769623</td>\n",
       "      <td>WAL-MAR associates</td>\n",
       "      <td>2019-01-17</td>\n",
       "      <td>2019.0</td>\n",
       "      <td>2018-12-30</td>\n",
       "      <td>2019-01-14</td>\n",
       "      <td>USD</td>\n",
       "      <td>31227.25</td>\n",
       "      <td>2018-12-30</td>\n",
       "      <td>NAH4</td>\n",
       "      <td>0</td>\n",
       "      <td>3.0</td>\n",
       "    </tr>\n",
       "    <tr>\n",
       "      <th>7313</th>\n",
       "      <td>U001</td>\n",
       "      <td>0200769623</td>\n",
       "      <td>WAL-MAR foundation</td>\n",
       "      <td>2019-01-10</td>\n",
       "      <td>2019.0</td>\n",
       "      <td>2018-12-30</td>\n",
       "      <td>2019-01-14</td>\n",
       "      <td>USD</td>\n",
       "      <td>27642.47</td>\n",
       "      <td>2018-12-30</td>\n",
       "      <td>NAH4</td>\n",
       "      <td>0</td>\n",
       "      <td>-4.0</td>\n",
       "    </tr>\n",
       "    <tr>\n",
       "      <th>24571</th>\n",
       "      <td>U001</td>\n",
       "      <td>0200744019</td>\n",
       "      <td>TARG corp</td>\n",
       "      <td>2019-01-22</td>\n",
       "      <td>2019.0</td>\n",
       "      <td>2018-12-30</td>\n",
       "      <td>2019-01-14</td>\n",
       "      <td>USD</td>\n",
       "      <td>36285.96</td>\n",
       "      <td>2018-12-30</td>\n",
       "      <td>NAA8</td>\n",
       "      <td>0</td>\n",
       "      <td>8.0</td>\n",
       "    </tr>\n",
       "    <tr>\n",
       "      <th>40463</th>\n",
       "      <td>U001</td>\n",
       "      <td>0200726979</td>\n",
       "      <td>BJ'S  corporation</td>\n",
       "      <td>2019-01-15</td>\n",
       "      <td>2019.0</td>\n",
       "      <td>2018-12-30</td>\n",
       "      <td>2019-01-14</td>\n",
       "      <td>USD</td>\n",
       "      <td>205.13</td>\n",
       "      <td>2018-12-30</td>\n",
       "      <td>NAA8</td>\n",
       "      <td>0</td>\n",
       "      <td>1.0</td>\n",
       "    </tr>\n",
       "    <tr>\n",
       "      <th>14041</th>\n",
       "      <td>U001</td>\n",
       "      <td>0200705372</td>\n",
       "      <td>FR foundation</td>\n",
       "      <td>2019-01-14</td>\n",
       "      <td>2019.0</td>\n",
       "      <td>2018-12-30</td>\n",
       "      <td>2019-01-14</td>\n",
       "      <td>USD</td>\n",
       "      <td>80755.03</td>\n",
       "      <td>2018-12-30</td>\n",
       "      <td>NAA8</td>\n",
       "      <td>0</td>\n",
       "      <td>0.0</td>\n",
       "    </tr>\n",
       "    <tr>\n",
       "      <th>...</th>\n",
       "      <td>...</td>\n",
       "      <td>...</td>\n",
       "      <td>...</td>\n",
       "      <td>...</td>\n",
       "      <td>...</td>\n",
       "      <td>...</td>\n",
       "      <td>...</td>\n",
       "      <td>...</td>\n",
       "      <td>...</td>\n",
       "      <td>...</td>\n",
       "      <td>...</td>\n",
       "      <td>...</td>\n",
       "      <td>...</td>\n",
       "    </tr>\n",
       "    <tr>\n",
       "      <th>34681</th>\n",
       "      <td>U001</td>\n",
       "      <td>0100036318</td>\n",
       "      <td>TFC trust</td>\n",
       "      <td>NaT</td>\n",
       "      <td>2020.0</td>\n",
       "      <td>2020-05-13</td>\n",
       "      <td>2020-05-23</td>\n",
       "      <td>USD</td>\n",
       "      <td>8400.00</td>\n",
       "      <td>2020-05-13</td>\n",
       "      <td>NA10</td>\n",
       "      <td>1</td>\n",
       "      <td>NaN</td>\n",
       "    </tr>\n",
       "    <tr>\n",
       "      <th>42464</th>\n",
       "      <td>CA02</td>\n",
       "      <td>0140106408</td>\n",
       "      <td>WAL-M corp</td>\n",
       "      <td>NaT</td>\n",
       "      <td>2020.0</td>\n",
       "      <td>2020-05-14</td>\n",
       "      <td>2020-05-26</td>\n",
       "      <td>CAD</td>\n",
       "      <td>55850.46</td>\n",
       "      <td>2020-05-16</td>\n",
       "      <td>CA10</td>\n",
       "      <td>1</td>\n",
       "      <td>NaN</td>\n",
       "    </tr>\n",
       "    <tr>\n",
       "      <th>19142</th>\n",
       "      <td>U001</td>\n",
       "      <td>0200915438</td>\n",
       "      <td>GROC corp</td>\n",
       "      <td>NaT</td>\n",
       "      <td>2020.0</td>\n",
       "      <td>2020-05-18</td>\n",
       "      <td>2020-06-02</td>\n",
       "      <td>USD</td>\n",
       "      <td>9291.00</td>\n",
       "      <td>2020-05-18</td>\n",
       "      <td>NAA8</td>\n",
       "      <td>1</td>\n",
       "      <td>NaN</td>\n",
       "    </tr>\n",
       "    <tr>\n",
       "      <th>27483</th>\n",
       "      <td>U001</td>\n",
       "      <td>0100026809</td>\n",
       "      <td>PRES trust</td>\n",
       "      <td>NaT</td>\n",
       "      <td>2020.0</td>\n",
       "      <td>2020-05-19</td>\n",
       "      <td>2020-05-29</td>\n",
       "      <td>USD</td>\n",
       "      <td>201.25</td>\n",
       "      <td>2020-05-19</td>\n",
       "      <td>NA10</td>\n",
       "      <td>1</td>\n",
       "      <td>NaN</td>\n",
       "    </tr>\n",
       "    <tr>\n",
       "      <th>33713</th>\n",
       "      <td>U001</td>\n",
       "      <td>0200763229</td>\n",
       "      <td>MAINES us</td>\n",
       "      <td>NaT</td>\n",
       "      <td>2020.0</td>\n",
       "      <td>2020-05-19</td>\n",
       "      <td>2020-06-03</td>\n",
       "      <td>USD</td>\n",
       "      <td>18506.94</td>\n",
       "      <td>2020-05-19</td>\n",
       "      <td>NAA8</td>\n",
       "      <td>1</td>\n",
       "      <td>NaN</td>\n",
       "    </tr>\n",
       "  </tbody>\n",
       "</table>\n",
       "<p>49997 rows × 13 columns</p>\n",
       "</div>"
      ],
      "text/plain": [
       "      business_code cust_number       name_customer clear_date  buisness_year  \\\n",
       "17651          U001  0200769623  WAL-MAR associates 2019-01-17         2019.0   \n",
       "7313           U001  0200769623  WAL-MAR foundation 2019-01-10         2019.0   \n",
       "24571          U001  0200744019           TARG corp 2019-01-22         2019.0   \n",
       "40463          U001  0200726979   BJ'S  corporation 2019-01-15         2019.0   \n",
       "14041          U001  0200705372       FR foundation 2019-01-14         2019.0   \n",
       "...             ...         ...                 ...        ...            ...   \n",
       "34681          U001  0100036318           TFC trust        NaT         2020.0   \n",
       "42464          CA02  0140106408          WAL-M corp        NaT         2020.0   \n",
       "19142          U001  0200915438           GROC corp        NaT         2020.0   \n",
       "27483          U001  0100026809          PRES trust        NaT         2020.0   \n",
       "33713          U001  0200763229           MAINES us        NaT         2020.0   \n",
       "\n",
       "      posting_date due_in_date invoice_currency  total_open_amount  \\\n",
       "17651   2018-12-30  2019-01-14              USD           31227.25   \n",
       "7313    2018-12-30  2019-01-14              USD           27642.47   \n",
       "24571   2018-12-30  2019-01-14              USD           36285.96   \n",
       "40463   2018-12-30  2019-01-14              USD             205.13   \n",
       "14041   2018-12-30  2019-01-14              USD           80755.03   \n",
       "...            ...         ...              ...                ...   \n",
       "34681   2020-05-13  2020-05-23              USD            8400.00   \n",
       "42464   2020-05-14  2020-05-26              CAD           55850.46   \n",
       "19142   2020-05-18  2020-06-02              USD            9291.00   \n",
       "27483   2020-05-19  2020-05-29              USD             201.25   \n",
       "33713   2020-05-19  2020-06-03              USD           18506.94   \n",
       "\n",
       "      baseline_create_date cust_payment_terms  isOpen  delay  \n",
       "17651           2018-12-30               NAH4       0    3.0  \n",
       "7313            2018-12-30               NAH4       0   -4.0  \n",
       "24571           2018-12-30               NAA8       0    8.0  \n",
       "40463           2018-12-30               NAA8       0    1.0  \n",
       "14041           2018-12-30               NAA8       0    0.0  \n",
       "...                    ...                ...     ...    ...  \n",
       "34681           2020-05-13               NA10       1    NaN  \n",
       "42464           2020-05-16               CA10       1    NaN  \n",
       "19142           2020-05-18               NAA8       1    NaN  \n",
       "27483           2020-05-19               NA10       1    NaN  \n",
       "33713           2020-05-19               NAA8       1    NaN  \n",
       "\n",
       "[49997 rows x 13 columns]"
      ]
     },
     "execution_count": 2408,
     "metadata": {},
     "output_type": "execute_result"
    }
   ],
   "source": [
    "data.sort_values(by=['posting_date'], inplace=True)\n",
    "data"
   ]
  },
  {
   "cell_type": "markdown",
   "id": "df2a9d4e",
   "metadata": {},
   "source": [
    "#### Cleaning Done... "
   ]
  },
  {
   "cell_type": "markdown",
   "id": "66b3a19e",
   "metadata": {},
   "source": [
    "## 4. Splitting of Dataset"
   ]
  },
  {
   "cell_type": "code",
   "execution_count": 2409,
   "id": "d925b65b",
   "metadata": {},
   "outputs": [
    {
     "data": {
      "text/plain": [
       "((39997, 13), (10000, 14))"
      ]
     },
     "execution_count": 2409,
     "metadata": {},
     "output_type": "execute_result"
    }
   ],
   "source": [
    "from sklearn.model_selection import train_test_split  #importing package required for train,val and test split\n",
    "main_train=data[data.clear_date.isnull()==False]      #seperated those datasets where the clear_date had no null values\n",
    "main_test=data[data.clear_date.isnull()].reset_index()  #data set with null clear_dates which we will predict\n",
    "mt=main_test.copy()\n",
    "main_train.shape, main_test.shape"
   ]
  },
  {
   "cell_type": "markdown",
   "id": "0e6561f7",
   "metadata": {},
   "source": [
    "#### Instead of taking clear_date as my target column, I chose delay because it will be in the format with which model will work easily.\n",
    "#### Seperating the target column from the data set."
   ]
  },
  {
   "cell_type": "code",
   "execution_count": 2410,
   "id": "577a5ab7",
   "metadata": {},
   "outputs": [],
   "source": [
    "Y=main_train['delay']                        \n",
    "X=main_train.drop(['delay'], axis=1)"
   ]
  },
  {
   "cell_type": "markdown",
   "id": "1392de55",
   "metadata": {},
   "source": [
    "#### The main splitting of data into training set, validation set and the testing set is done here.\n",
    "### I have alloted 70% of the main_train to training set  and the rest 30% is divided equally between val and test."
   ]
  },
  {
   "cell_type": "code",
   "execution_count": 2411,
   "id": "b840800a",
   "metadata": {},
   "outputs": [
    {
     "data": {
      "text/plain": [
       "((27997, 12), (6000, 12), (6000, 12))"
      ]
     },
     "execution_count": 2411,
     "metadata": {},
     "output_type": "execute_result"
    }
   ],
   "source": [
    "X_train, X_inter_test, Y_train, Y_inter_test=train_test_split(X,Y,test_size=0.3, random_state=0, shuffle=False)\n",
    "X_val, X_test, Y_val, Y_test=train_test_split(X_inter_test,Y_inter_test,test_size=0.5, random_state=0, shuffle=False)\n",
    "X_train.shape, X_val.shape, X_test.shape"
   ]
  },
  {
   "cell_type": "markdown",
   "id": "d8e0abbf",
   "metadata": {},
   "source": [
    "## 5. Exploratory Data Analysis, i.e., EDA"
   ]
  },
  {
   "cell_type": "markdown",
   "id": "99fa3641",
   "metadata": {},
   "source": [
    "### Analysis of every feature we are left with"
   ]
  },
  {
   "cell_type": "markdown",
   "id": "89c880e2",
   "metadata": {},
   "source": [
    "### business_code"
   ]
  },
  {
   "cell_type": "code",
   "execution_count": 2412,
   "id": "80ff717a",
   "metadata": {},
   "outputs": [
    {
     "data": {
      "text/plain": [
       "<AxesSubplot:xlabel='business_code', ylabel='count'>"
      ]
     },
     "execution_count": 2412,
     "metadata": {},
     "output_type": "execute_result"
    },
    {
     "data": {
      "image/png": "[encoded data removed]",
      "text/plain": [
       "<Figure size 432x288 with 1 Axes>"
      ]
     },
     "metadata": {
      "needs_background": "light"
     },
     "output_type": "display_data"
    }
   ],
   "source": [
    "sns.countplot(x=X_train['business_code'])"
   ]
  },
  {
   "cell_type": "markdown",
   "id": "ae6e10d3",
   "metadata": {},
   "source": [
    "#### We can see from the graph that majority of the companies were of U001 category."
   ]
  },
  {
   "cell_type": "markdown",
   "id": "f8d47f3b",
   "metadata": {},
   "source": [
    "### cust_number"
   ]
  },
  {
   "cell_type": "code",
   "execution_count": 2413,
   "id": "51ce4863",
   "metadata": {},
   "outputs": [
    {
     "data": {
      "text/plain": [
       "0200769623    5976\n",
       "0200726979    1066\n",
       "0200762301     859\n",
       "0200759878     684\n",
       "200769623      650\n",
       "              ... \n",
       "200713007        1\n",
       "0200135060       1\n",
       "0200760428       1\n",
       "0200200340       1\n",
       "200727278        1\n",
       "Name: cust_number, Length: 1228, dtype: int64"
      ]
     },
     "execution_count": 2413,
     "metadata": {},
     "output_type": "execute_result"
    }
   ],
   "source": [
    "X_train.cust_number.value_counts()"
   ]
  },
  {
   "cell_type": "markdown",
   "id": "cdc6c712",
   "metadata": {},
   "source": [
    "#### This analysis tells that more than one company has same customer number. "
   ]
  },
  {
   "cell_type": "markdown",
   "id": "ebb669d1",
   "metadata": {},
   "source": [
    "### name_customer"
   ]
  },
  {
   "cell_type": "code",
   "execution_count": 2414,
   "id": "238c1acf",
   "metadata": {},
   "outputs": [
    {
     "data": {
      "text/plain": [
       "WAL-MAR co            637\n",
       "WAL-MAR trust         632\n",
       "WAL-MAR llc           632\n",
       "WAL-MAR associates    614\n",
       "WAL-MAR corp          613\n",
       "                     ... \n",
       "SABA us                 1\n",
       "ME T us                 1\n",
       "ROADTOWN trust          1\n",
       "BIG corporation         1\n",
       "JAM                     1\n",
       "Name: name_customer, Length: 3378, dtype: int64"
      ]
     },
     "execution_count": 2414,
     "metadata": {},
     "output_type": "execute_result"
    }
   ],
   "source": [
    "X_train.name_customer.value_counts()"
   ]
  },
  {
   "cell_type": "markdown",
   "id": "fabd06f9",
   "metadata": {},
   "source": [
    "#### Analysing the unique values of customer names, I got to know that many companies have different sub-branches and the transactions from every sub-branch has been given the same cust_number. For e.g.:- WAL-MAR has a total of 5976 transactions broken into it's different sub-companies like WAL-MAR co, WAL-MAR trust, WAL-MAR llc etc. So, we can simply drop this column."
   ]
  },
  {
   "cell_type": "markdown",
   "id": "f0b85356",
   "metadata": {},
   "source": [
    "#### Output- Drop"
   ]
  },
  {
   "cell_type": "code",
   "execution_count": 2415,
   "id": "0dcfee0d",
   "metadata": {},
   "outputs": [
    {
     "data": {
      "text/html": [
       "<div>\n",
       "<style scoped>\n",
       "    .dataframe tbody tr th:only-of-type {\n",
       "        vertical-align: middle;\n",
       "    }\n",
       "\n",
       "    .dataframe tbody tr th {\n",
       "        vertical-align: top;\n",
       "    }\n",
       "\n",
       "    .dataframe thead th {\n",
       "        text-align: right;\n",
       "    }\n",
       "</style>\n",
       "<table border=\"1\" class=\"dataframe\">\n",
       "  <thead>\n",
       "    <tr style=\"text-align: right;\">\n",
       "      <th></th>\n",
       "      <th>business_code</th>\n",
       "      <th>cust_number</th>\n",
       "      <th>name_customer</th>\n",
       "      <th>clear_date</th>\n",
       "      <th>buisness_year</th>\n",
       "      <th>posting_date</th>\n",
       "      <th>due_in_date</th>\n",
       "      <th>invoice_currency</th>\n",
       "      <th>total_open_amount</th>\n",
       "      <th>baseline_create_date</th>\n",
       "      <th>cust_payment_terms</th>\n",
       "      <th>isOpen</th>\n",
       "    </tr>\n",
       "  </thead>\n",
       "  <tbody>\n",
       "    <tr>\n",
       "      <th>17651</th>\n",
       "      <td>U001</td>\n",
       "      <td>0200769623</td>\n",
       "      <td>WAL-MAR associates</td>\n",
       "      <td>2019-01-17</td>\n",
       "      <td>2019.0</td>\n",
       "      <td>2018-12-30</td>\n",
       "      <td>2019-01-14</td>\n",
       "      <td>USD</td>\n",
       "      <td>31227.25</td>\n",
       "      <td>2018-12-30</td>\n",
       "      <td>NAH4</td>\n",
       "      <td>0</td>\n",
       "    </tr>\n",
       "    <tr>\n",
       "      <th>7313</th>\n",
       "      <td>U001</td>\n",
       "      <td>0200769623</td>\n",
       "      <td>WAL-MAR foundation</td>\n",
       "      <td>2019-01-10</td>\n",
       "      <td>2019.0</td>\n",
       "      <td>2018-12-30</td>\n",
       "      <td>2019-01-14</td>\n",
       "      <td>USD</td>\n",
       "      <td>27642.47</td>\n",
       "      <td>2018-12-30</td>\n",
       "      <td>NAH4</td>\n",
       "      <td>0</td>\n",
       "    </tr>\n",
       "    <tr>\n",
       "      <th>24571</th>\n",
       "      <td>U001</td>\n",
       "      <td>0200744019</td>\n",
       "      <td>TARG corp</td>\n",
       "      <td>2019-01-22</td>\n",
       "      <td>2019.0</td>\n",
       "      <td>2018-12-30</td>\n",
       "      <td>2019-01-14</td>\n",
       "      <td>USD</td>\n",
       "      <td>36285.96</td>\n",
       "      <td>2018-12-30</td>\n",
       "      <td>NAA8</td>\n",
       "      <td>0</td>\n",
       "    </tr>\n",
       "    <tr>\n",
       "      <th>40463</th>\n",
       "      <td>U001</td>\n",
       "      <td>0200726979</td>\n",
       "      <td>BJ'S  corporation</td>\n",
       "      <td>2019-01-15</td>\n",
       "      <td>2019.0</td>\n",
       "      <td>2018-12-30</td>\n",
       "      <td>2019-01-14</td>\n",
       "      <td>USD</td>\n",
       "      <td>205.13</td>\n",
       "      <td>2018-12-30</td>\n",
       "      <td>NAA8</td>\n",
       "      <td>0</td>\n",
       "    </tr>\n",
       "    <tr>\n",
       "      <th>14041</th>\n",
       "      <td>U001</td>\n",
       "      <td>0200705372</td>\n",
       "      <td>FR foundation</td>\n",
       "      <td>2019-01-14</td>\n",
       "      <td>2019.0</td>\n",
       "      <td>2018-12-30</td>\n",
       "      <td>2019-01-14</td>\n",
       "      <td>USD</td>\n",
       "      <td>80755.03</td>\n",
       "      <td>2018-12-30</td>\n",
       "      <td>NAA8</td>\n",
       "      <td>0</td>\n",
       "    </tr>\n",
       "    <tr>\n",
       "      <th>...</th>\n",
       "      <td>...</td>\n",
       "      <td>...</td>\n",
       "      <td>...</td>\n",
       "      <td>...</td>\n",
       "      <td>...</td>\n",
       "      <td>...</td>\n",
       "      <td>...</td>\n",
       "      <td>...</td>\n",
       "      <td>...</td>\n",
       "      <td>...</td>\n",
       "      <td>...</td>\n",
       "      <td>...</td>\n",
       "    </tr>\n",
       "    <tr>\n",
       "      <th>1942</th>\n",
       "      <td>U001</td>\n",
       "      <td>0200759082</td>\n",
       "      <td>INGL in</td>\n",
       "      <td>2019-10-22</td>\n",
       "      <td>2019.0</td>\n",
       "      <td>2019-10-07</td>\n",
       "      <td>2019-10-22</td>\n",
       "      <td>USD</td>\n",
       "      <td>24754.02</td>\n",
       "      <td>2019-10-07</td>\n",
       "      <td>NAA8</td>\n",
       "      <td>0</td>\n",
       "    </tr>\n",
       "    <tr>\n",
       "      <th>49835</th>\n",
       "      <td>U001</td>\n",
       "      <td>0200762301</td>\n",
       "      <td>C&amp;S WH in</td>\n",
       "      <td>2019-10-22</td>\n",
       "      <td>2019.0</td>\n",
       "      <td>2019-10-07</td>\n",
       "      <td>2019-10-22</td>\n",
       "      <td>USD</td>\n",
       "      <td>172589.64</td>\n",
       "      <td>2019-10-07</td>\n",
       "      <td>NAC6</td>\n",
       "      <td>0</td>\n",
       "    </tr>\n",
       "    <tr>\n",
       "      <th>47103</th>\n",
       "      <td>U001</td>\n",
       "      <td>0200759878</td>\n",
       "      <td>SA trust</td>\n",
       "      <td>2019-11-18</td>\n",
       "      <td>2019.0</td>\n",
       "      <td>2019-10-07</td>\n",
       "      <td>2019-11-16</td>\n",
       "      <td>USD</td>\n",
       "      <td>38528.00</td>\n",
       "      <td>2019-10-07</td>\n",
       "      <td>NAWU</td>\n",
       "      <td>0</td>\n",
       "    </tr>\n",
       "    <tr>\n",
       "      <th>42338</th>\n",
       "      <td>U001</td>\n",
       "      <td>0200434439</td>\n",
       "      <td>BAUGH SU in</td>\n",
       "      <td>2019-10-23</td>\n",
       "      <td>2019.0</td>\n",
       "      <td>2019-10-07</td>\n",
       "      <td>2019-10-22</td>\n",
       "      <td>USD</td>\n",
       "      <td>50031.99</td>\n",
       "      <td>2019-10-07</td>\n",
       "      <td>NAA8</td>\n",
       "      <td>0</td>\n",
       "    </tr>\n",
       "    <tr>\n",
       "      <th>33658</th>\n",
       "      <td>U001</td>\n",
       "      <td>0200780825</td>\n",
       "      <td>SYSCO FO associates</td>\n",
       "      <td>2019-10-24</td>\n",
       "      <td>2019.0</td>\n",
       "      <td>2019-10-07</td>\n",
       "      <td>2019-10-22</td>\n",
       "      <td>USD</td>\n",
       "      <td>1057.48</td>\n",
       "      <td>2019-10-07</td>\n",
       "      <td>NAA8</td>\n",
       "      <td>0</td>\n",
       "    </tr>\n",
       "  </tbody>\n",
       "</table>\n",
       "<p>27997 rows × 12 columns</p>\n",
       "</div>"
      ],
      "text/plain": [
       "      business_code cust_number        name_customer clear_date  \\\n",
       "17651          U001  0200769623   WAL-MAR associates 2019-01-17   \n",
       "7313           U001  0200769623   WAL-MAR foundation 2019-01-10   \n",
       "24571          U001  0200744019            TARG corp 2019-01-22   \n",
       "40463          U001  0200726979    BJ'S  corporation 2019-01-15   \n",
       "14041          U001  0200705372        FR foundation 2019-01-14   \n",
       "...             ...         ...                  ...        ...   \n",
       "1942           U001  0200759082              INGL in 2019-10-22   \n",
       "49835          U001  0200762301            C&S WH in 2019-10-22   \n",
       "47103          U001  0200759878             SA trust 2019-11-18   \n",
       "42338          U001  0200434439          BAUGH SU in 2019-10-23   \n",
       "33658          U001  0200780825  SYSCO FO associates 2019-10-24   \n",
       "\n",
       "       buisness_year posting_date due_in_date invoice_currency  \\\n",
       "17651         2019.0   2018-12-30  2019-01-14              USD   \n",
       "7313          2019.0   2018-12-30  2019-01-14              USD   \n",
       "24571         2019.0   2018-12-30  2019-01-14              USD   \n",
       "40463         2019.0   2018-12-30  2019-01-14              USD   \n",
       "14041         2019.0   2018-12-30  2019-01-14              USD   \n",
       "...              ...          ...         ...              ...   \n",
       "1942          2019.0   2019-10-07  2019-10-22              USD   \n",
       "49835         2019.0   2019-10-07  2019-10-22              USD   \n",
       "47103         2019.0   2019-10-07  2019-11-16              USD   \n",
       "42338         2019.0   2019-10-07  2019-10-22              USD   \n",
       "33658         2019.0   2019-10-07  2019-10-22              USD   \n",
       "\n",
       "       total_open_amount baseline_create_date cust_payment_terms  isOpen  \n",
       "17651           31227.25           2018-12-30               NAH4       0  \n",
       "7313            27642.47           2018-12-30               NAH4       0  \n",
       "24571           36285.96           2018-12-30               NAA8       0  \n",
       "40463             205.13           2018-12-30               NAA8       0  \n",
       "14041           80755.03           2018-12-30               NAA8       0  \n",
       "...                  ...                  ...                ...     ...  \n",
       "1942            24754.02           2019-10-07               NAA8       0  \n",
       "49835          172589.64           2019-10-07               NAC6       0  \n",
       "47103           38528.00           2019-10-07               NAWU       0  \n",
       "42338           50031.99           2019-10-07               NAA8       0  \n",
       "33658            1057.48           2019-10-07               NAA8       0  \n",
       "\n",
       "[27997 rows x 12 columns]"
      ]
     },
     "execution_count": 2415,
     "metadata": {},
     "output_type": "execute_result"
    }
   ],
   "source": [
    "X_train"
   ]
  },
  {
   "cell_type": "markdown",
   "id": "9ba53d90",
   "metadata": {},
   "source": [
    "#### Same customer_number for different customer_name "
   ]
  },
  {
   "cell_type": "markdown",
   "id": "233f6db9",
   "metadata": {},
   "source": [
    "### Clear_Date"
   ]
  },
  {
   "cell_type": "code",
   "execution_count": 2416,
   "id": "ba90240e",
   "metadata": {},
   "outputs": [
    {
     "data": {
      "text/plain": [
       "(Timestamp('2019-01-04 00:00:00'), Timestamp('2019-12-31 00:00:00'))"
      ]
     },
     "execution_count": 2416,
     "metadata": {},
     "output_type": "execute_result"
    }
   ],
   "source": [
    "X_train.clear_date.min(), X_train.clear_date.max()"
   ]
  },
  {
   "cell_type": "markdown",
   "id": "28d4c19c",
   "metadata": {},
   "source": [
    "#### We have a trainset data of around a year."
   ]
  },
  {
   "cell_type": "code",
   "execution_count": 2417,
   "id": "877c58ef",
   "metadata": {},
   "outputs": [
    {
     "data": {
      "text/plain": [
       "5     3254\n",
       "8     3226\n",
       "7     3183\n",
       "4     3120\n",
       "3     3048\n",
       "9     3037\n",
       "6     2840\n",
       "2     2452\n",
       "10    2154\n",
       "1     1350\n",
       "11     289\n",
       "12      44\n",
       "Name: clear_date, dtype: int64"
      ]
     },
     "execution_count": 2417,
     "metadata": {},
     "output_type": "execute_result"
    }
   ],
   "source": [
    "months=X_train.clear_date.dt.month\n",
    "months.value_counts()"
   ]
  },
  {
   "cell_type": "markdown",
   "id": "3bc9c25e",
   "metadata": {},
   "source": [
    "#### This indicates that most of the invoices were cleared in the 5th month of the year. Plotting it on a graph, we get:"
   ]
  },
  {
   "cell_type": "code",
   "execution_count": 2418,
   "id": "805a6adf",
   "metadata": {},
   "outputs": [
    {
     "data": {
      "text/plain": [
       "<AxesSubplot:xlabel='clear_date', ylabel='count'>"
      ]
     },
     "execution_count": 2418,
     "metadata": {},
     "output_type": "execute_result"
    },
    {
     "data": {
      "image/png": "[encoded data removed]",
      "text/plain": [
       "<Figure size 432x288 with 1 Axes>"
      ]
     },
     "metadata": {
      "needs_background": "light"
     },
     "output_type": "display_data"
    }
   ],
   "source": [
    "sns.countplot(x=months)"
   ]
  },
  {
   "cell_type": "markdown",
   "id": "7bccaa87",
   "metadata": {},
   "source": [
    "### BUSINESS_YEAR"
   ]
  },
  {
   "cell_type": "code",
   "execution_count": 2419,
   "id": "3624fe3a",
   "metadata": {},
   "outputs": [
    {
     "data": {
      "text/plain": [
       "2019.0    27997\n",
       "Name: buisness_year, dtype: int64"
      ]
     },
     "execution_count": 2419,
     "metadata": {},
     "output_type": "execute_result"
    }
   ],
   "source": [
    "X_train.buisness_year.value_counts()"
   ]
  },
  {
   "cell_type": "markdown",
   "id": "1323ecd3",
   "metadata": {},
   "source": [
    "#### Business_year here became a constant column.\n",
    "#### Output- Drop"
   ]
  },
  {
   "cell_type": "markdown",
   "id": "163e9ab4",
   "metadata": {},
   "source": [
    "### POSTING_DATE"
   ]
  },
  {
   "cell_type": "code",
   "execution_count": 2420,
   "id": "6345c423",
   "metadata": {},
   "outputs": [
    {
     "data": {
      "text/plain": [
       "(Timestamp('2018-12-30 00:00:00'), Timestamp('2019-10-07 00:00:00'))"
      ]
     },
     "execution_count": 2420,
     "metadata": {},
     "output_type": "execute_result"
    }
   ],
   "source": [
    "X_train['posting_date'].min(), X_train['posting_date'].max()"
   ]
  },
  {
   "cell_type": "markdown",
   "id": "3e1eb989",
   "metadata": {},
   "source": [
    "#### around a time interval of 10 months and 9-10 days"
   ]
  },
  {
   "cell_type": "markdown",
   "id": "dfab223e",
   "metadata": {},
   "source": [
    "### INVOICE_CURRENCY"
   ]
  },
  {
   "cell_type": "code",
   "execution_count": 2421,
   "id": "17e42301",
   "metadata": {},
   "outputs": [
    {
     "data": {
      "text/plain": [
       "USD    25739\n",
       "CAD     2258\n",
       "Name: invoice_currency, dtype: int64"
      ]
     },
     "execution_count": 2421,
     "metadata": {},
     "output_type": "execute_result"
    }
   ],
   "source": [
    "X_train.invoice_currency.value_counts()"
   ]
  },
  {
   "cell_type": "markdown",
   "id": "e200d75a",
   "metadata": {},
   "source": [
    "#### approximately 91.93% of the transactions were to be paid in US Dollars. Plus, there's not much difference in the amount if we convert USD to CAD for making it a constant column.\n",
    "#### Output- Drop"
   ]
  },
  {
   "cell_type": "markdown",
   "id": "c555d950",
   "metadata": {},
   "source": [
    "### BASELINE_CREATE_DATE"
   ]
  },
  {
   "cell_type": "markdown",
   "id": "0180141e",
   "metadata": {},
   "source": [
    "#### Those tuples whose baseline date and posting date are different"
   ]
  },
  {
   "cell_type": "code",
   "execution_count": 2422,
   "id": "c676119f",
   "metadata": {},
   "outputs": [
    {
     "data": {
      "text/html": [
       "<div>\n",
       "<style scoped>\n",
       "    .dataframe tbody tr th:only-of-type {\n",
       "        vertical-align: middle;\n",
       "    }\n",
       "\n",
       "    .dataframe tbody tr th {\n",
       "        vertical-align: top;\n",
       "    }\n",
       "\n",
       "    .dataframe thead th {\n",
       "        text-align: right;\n",
       "    }\n",
       "</style>\n",
       "<table border=\"1\" class=\"dataframe\">\n",
       "  <thead>\n",
       "    <tr style=\"text-align: right;\">\n",
       "      <th></th>\n",
       "      <th>business_code</th>\n",
       "      <th>cust_number</th>\n",
       "      <th>name_customer</th>\n",
       "      <th>clear_date</th>\n",
       "      <th>buisness_year</th>\n",
       "      <th>posting_date</th>\n",
       "      <th>due_in_date</th>\n",
       "      <th>invoice_currency</th>\n",
       "      <th>total_open_amount</th>\n",
       "      <th>baseline_create_date</th>\n",
       "      <th>cust_payment_terms</th>\n",
       "      <th>isOpen</th>\n",
       "    </tr>\n",
       "  </thead>\n",
       "  <tbody>\n",
       "    <tr>\n",
       "      <th>43904</th>\n",
       "      <td>CA02</td>\n",
       "      <td>0140104409</td>\n",
       "      <td>LOB associates</td>\n",
       "      <td>2019-01-11</td>\n",
       "      <td>2019.0</td>\n",
       "      <td>2018-12-30</td>\n",
       "      <td>2019-01-10</td>\n",
       "      <td>CAD</td>\n",
       "      <td>132959.08</td>\n",
       "      <td>2018-12-31</td>\n",
       "      <td>CA10</td>\n",
       "      <td>0</td>\n",
       "    </tr>\n",
       "    <tr>\n",
       "      <th>36215</th>\n",
       "      <td>CA02</td>\n",
       "      <td>0140105785</td>\n",
       "      <td>SHOPPE associates</td>\n",
       "      <td>2019-01-18</td>\n",
       "      <td>2019.0</td>\n",
       "      <td>2018-12-30</td>\n",
       "      <td>2019-01-13</td>\n",
       "      <td>CAD</td>\n",
       "      <td>46528.10</td>\n",
       "      <td>2019-01-03</td>\n",
       "      <td>CA10</td>\n",
       "      <td>0</td>\n",
       "    </tr>\n",
       "    <tr>\n",
       "      <th>28632</th>\n",
       "      <td>CA02</td>\n",
       "      <td>0140104423</td>\n",
       "      <td>METRO  corp</td>\n",
       "      <td>2019-01-15</td>\n",
       "      <td>2019.0</td>\n",
       "      <td>2018-12-31</td>\n",
       "      <td>2019-01-12</td>\n",
       "      <td>CAD</td>\n",
       "      <td>27250.82</td>\n",
       "      <td>2019-01-02</td>\n",
       "      <td>CA10</td>\n",
       "      <td>0</td>\n",
       "    </tr>\n",
       "    <tr>\n",
       "      <th>14190</th>\n",
       "      <td>CA02</td>\n",
       "      <td>0140104440</td>\n",
       "      <td>SO in</td>\n",
       "      <td>2019-01-16</td>\n",
       "      <td>2019.0</td>\n",
       "      <td>2018-12-31</td>\n",
       "      <td>2019-01-12</td>\n",
       "      <td>CAD</td>\n",
       "      <td>89597.99</td>\n",
       "      <td>2019-01-02</td>\n",
       "      <td>CA10</td>\n",
       "      <td>0</td>\n",
       "    </tr>\n",
       "    <tr>\n",
       "      <th>26705</th>\n",
       "      <td>CA02</td>\n",
       "      <td>0140104409</td>\n",
       "      <td>LOB llc</td>\n",
       "      <td>2019-01-18</td>\n",
       "      <td>2019.0</td>\n",
       "      <td>2018-12-31</td>\n",
       "      <td>2019-01-13</td>\n",
       "      <td>CAD</td>\n",
       "      <td>56301.33</td>\n",
       "      <td>2019-01-03</td>\n",
       "      <td>CA10</td>\n",
       "      <td>0</td>\n",
       "    </tr>\n",
       "    <tr>\n",
       "      <th>...</th>\n",
       "      <td>...</td>\n",
       "      <td>...</td>\n",
       "      <td>...</td>\n",
       "      <td>...</td>\n",
       "      <td>...</td>\n",
       "      <td>...</td>\n",
       "      <td>...</td>\n",
       "      <td>...</td>\n",
       "      <td>...</td>\n",
       "      <td>...</td>\n",
       "      <td>...</td>\n",
       "      <td>...</td>\n",
       "    </tr>\n",
       "    <tr>\n",
       "      <th>47067</th>\n",
       "      <td>CA02</td>\n",
       "      <td>0140104409</td>\n",
       "      <td>LOB corporation</td>\n",
       "      <td>2019-10-15</td>\n",
       "      <td>2019.0</td>\n",
       "      <td>2019-10-05</td>\n",
       "      <td>2019-10-17</td>\n",
       "      <td>CAD</td>\n",
       "      <td>164361.64</td>\n",
       "      <td>2019-10-07</td>\n",
       "      <td>CA10</td>\n",
       "      <td>0</td>\n",
       "    </tr>\n",
       "    <tr>\n",
       "      <th>5180</th>\n",
       "      <td>CA02</td>\n",
       "      <td>0140106181</td>\n",
       "      <td>THE  trust</td>\n",
       "      <td>2019-12-19</td>\n",
       "      <td>2019.0</td>\n",
       "      <td>2019-10-05</td>\n",
       "      <td>2019-10-18</td>\n",
       "      <td>CAD</td>\n",
       "      <td>18262.96</td>\n",
       "      <td>2019-10-08</td>\n",
       "      <td>CA10</td>\n",
       "      <td>0</td>\n",
       "    </tr>\n",
       "    <tr>\n",
       "      <th>47764</th>\n",
       "      <td>CA02</td>\n",
       "      <td>0140105686</td>\n",
       "      <td>SYSC llc</td>\n",
       "      <td>2019-10-28</td>\n",
       "      <td>2019.0</td>\n",
       "      <td>2019-10-05</td>\n",
       "      <td>2019-10-25</td>\n",
       "      <td>CAD</td>\n",
       "      <td>42716.45</td>\n",
       "      <td>2019-10-15</td>\n",
       "      <td>CA10</td>\n",
       "      <td>0</td>\n",
       "    </tr>\n",
       "    <tr>\n",
       "      <th>45923</th>\n",
       "      <td>CA02</td>\n",
       "      <td>0100031970</td>\n",
       "      <td>CAPITAL in</td>\n",
       "      <td>2019-10-17</td>\n",
       "      <td>2019.0</td>\n",
       "      <td>2019-10-06</td>\n",
       "      <td>2019-10-21</td>\n",
       "      <td>CAD</td>\n",
       "      <td>3855.95</td>\n",
       "      <td>2019-10-11</td>\n",
       "      <td>CA10</td>\n",
       "      <td>0</td>\n",
       "    </tr>\n",
       "    <tr>\n",
       "      <th>22120</th>\n",
       "      <td>CA02</td>\n",
       "      <td>0140104249</td>\n",
       "      <td>SOB foundation</td>\n",
       "      <td>2019-10-28</td>\n",
       "      <td>2019.0</td>\n",
       "      <td>2019-10-06</td>\n",
       "      <td>2019-10-24</td>\n",
       "      <td>CAD</td>\n",
       "      <td>146457.39</td>\n",
       "      <td>2019-10-14</td>\n",
       "      <td>CA10</td>\n",
       "      <td>0</td>\n",
       "    </tr>\n",
       "  </tbody>\n",
       "</table>\n",
       "<p>3082 rows × 12 columns</p>\n",
       "</div>"
      ],
      "text/plain": [
       "      business_code cust_number      name_customer clear_date  buisness_year  \\\n",
       "43904          CA02  0140104409     LOB associates 2019-01-11         2019.0   \n",
       "36215          CA02  0140105785  SHOPPE associates 2019-01-18         2019.0   \n",
       "28632          CA02  0140104423        METRO  corp 2019-01-15         2019.0   \n",
       "14190          CA02  0140104440              SO in 2019-01-16         2019.0   \n",
       "26705          CA02  0140104409            LOB llc 2019-01-18         2019.0   \n",
       "...             ...         ...                ...        ...            ...   \n",
       "47067          CA02  0140104409    LOB corporation 2019-10-15         2019.0   \n",
       "5180           CA02  0140106181         THE  trust 2019-12-19         2019.0   \n",
       "47764          CA02  0140105686           SYSC llc 2019-10-28         2019.0   \n",
       "45923          CA02  0100031970         CAPITAL in 2019-10-17         2019.0   \n",
       "22120          CA02  0140104249     SOB foundation 2019-10-28         2019.0   \n",
       "\n",
       "      posting_date due_in_date invoice_currency  total_open_amount  \\\n",
       "43904   2018-12-30  2019-01-10              CAD          132959.08   \n",
       "36215   2018-12-30  2019-01-13              CAD           46528.10   \n",
       "28632   2018-12-31  2019-01-12              CAD           27250.82   \n",
       "14190   2018-12-31  2019-01-12              CAD           89597.99   \n",
       "26705   2018-12-31  2019-01-13              CAD           56301.33   \n",
       "...            ...         ...              ...                ...   \n",
       "47067   2019-10-05  2019-10-17              CAD          164361.64   \n",
       "5180    2019-10-05  2019-10-18              CAD           18262.96   \n",
       "47764   2019-10-05  2019-10-25              CAD           42716.45   \n",
       "45923   2019-10-06  2019-10-21              CAD            3855.95   \n",
       "22120   2019-10-06  2019-10-24              CAD          146457.39   \n",
       "\n",
       "      baseline_create_date cust_payment_terms  isOpen  \n",
       "43904           2018-12-31               CA10       0  \n",
       "36215           2019-01-03               CA10       0  \n",
       "28632           2019-01-02               CA10       0  \n",
       "14190           2019-01-02               CA10       0  \n",
       "26705           2019-01-03               CA10       0  \n",
       "...                    ...                ...     ...  \n",
       "47067           2019-10-07               CA10       0  \n",
       "5180            2019-10-08               CA10       0  \n",
       "47764           2019-10-15               CA10       0  \n",
       "45923           2019-10-11               CA10       0  \n",
       "22120           2019-10-14               CA10       0  \n",
       "\n",
       "[3082 rows x 12 columns]"
      ]
     },
     "execution_count": 2422,
     "metadata": {},
     "output_type": "execute_result"
    }
   ],
   "source": [
    "X_train.loc[X_train['posting_date']!=X_train['baseline_create_date']]"
   ]
  },
  {
   "cell_type": "markdown",
   "id": "6fb1e1e1",
   "metadata": {},
   "source": [
    "#### 3082 transactions had a difference between posting date and baseline create date. Out of which, 2258 transactions were of companies transacting in CAD. Rest of the datasets were not having much fluctuation. So, we can drop this column too.\n",
    "#### Output- Drop"
   ]
  },
  {
   "cell_type": "markdown",
   "id": "a401d918",
   "metadata": {},
   "source": [
    "### IS_OPEN"
   ]
  },
  {
   "cell_type": "code",
   "execution_count": 2423,
   "id": "eac1c6f1",
   "metadata": {},
   "outputs": [
    {
     "data": {
      "text/plain": [
       "0    27997\n",
       "Name: isOpen, dtype: int64"
      ]
     },
     "execution_count": 2423,
     "metadata": {},
     "output_type": "execute_result"
    }
   ],
   "source": [
    "X_train.isOpen.value_counts()"
   ]
  },
  {
   "cell_type": "markdown",
   "id": "a1fedfbe",
   "metadata": {},
   "source": [
    "#### IsOpen also became a constant column here as all the tuples of training data set have their invoices closed."
   ]
  },
  {
   "cell_type": "markdown",
   "id": "b6ba9b5d",
   "metadata": {},
   "source": [
    "### DELAY"
   ]
  },
  {
   "cell_type": "code",
   "execution_count": 2424,
   "id": "70b75cea",
   "metadata": {},
   "outputs": [
    {
     "data": {
      "text/plain": [
       "(10035, 17962)"
      ]
     },
     "execution_count": 2424,
     "metadata": {},
     "output_type": "execute_result"
    }
   ],
   "source": [
    "Y_train[Y_train<0].count(), Y_train[Y_train>=0].count()"
   ]
  },
  {
   "cell_type": "markdown",
   "id": "44c9c3c0",
   "metadata": {},
   "source": [
    "#### This indicates that 10035 companies cleared the invoice before due date and the rest did on or after the due_date with a delay."
   ]
  },
  {
   "cell_type": "markdown",
   "id": "ef5f72e2",
   "metadata": {},
   "source": [
    "### BUSINESS_CODE VS INVOICE_CURRENCY"
   ]
  },
  {
   "cell_type": "code",
   "execution_count": 2425,
   "id": "0eae9a60",
   "metadata": {},
   "outputs": [
    {
     "data": {
      "text/plain": [
       "business_code  invoice_currency\n",
       "CA02           CAD                  2258\n",
       "U001           USD                 25227\n",
       "U002           USD                    85\n",
       "U005           USD                    10\n",
       "U007           USD                     3\n",
       "U013           USD                   414\n",
       "Name: invoice_currency, dtype: int64"
      ]
     },
     "execution_count": 2425,
     "metadata": {},
     "output_type": "execute_result"
    }
   ],
   "source": [
    "X_train.groupby('business_code').invoice_currency.value_counts()"
   ]
  },
  {
   "cell_type": "markdown",
   "id": "5a46b68a",
   "metadata": {},
   "source": [
    "#### The initial character of business_code tells the invoice_currency. So, Invoice_currency can be dropped."
   ]
  },
  {
   "cell_type": "code",
   "execution_count": 2426,
   "id": "b1776b5d",
   "metadata": {},
   "outputs": [
    {
     "data": {
      "text/plain": [
       "invoice_currency  business_code\n",
       "CAD               CA02              2258\n",
       "USD               U001             25227\n",
       "                  U013               414\n",
       "                  U002                85\n",
       "                  U005                10\n",
       "                  U007                 3\n",
       "Name: business_code, dtype: int64"
      ]
     },
     "execution_count": 2426,
     "metadata": {},
     "output_type": "execute_result"
    }
   ],
   "source": [
    "X_train.groupby('invoice_currency').business_code.value_counts()"
   ]
  },
  {
   "cell_type": "markdown",
   "id": "dc616f22",
   "metadata": {},
   "source": [
    "#### There exists no such company who is US based and transacting in Canadian Dollars(CAD) or vice versa."
   ]
  },
  {
   "cell_type": "markdown",
   "id": "2a510a23",
   "metadata": {},
   "source": [
    "### Total_Open_Amount VS Delay"
   ]
  },
  {
   "cell_type": "code",
   "execution_count": 2427,
   "id": "ccf7f237",
   "metadata": {},
   "outputs": [
    {
     "data": {
      "text/plain": [
       "(-15, 0]     15638\n",
       "(0, 15]      10834\n",
       "(30, 60]       527\n",
       "(15, 30]       389\n",
       "(60, 300]      193\n",
       "Name: delay, dtype: int64"
      ]
     },
     "execution_count": 2427,
     "metadata": {},
     "output_type": "execute_result"
    }
   ],
   "source": [
    "basket=[-15,0,15,30,60,300]\n",
    "d_basket=pd.cut(Y_train,bins=basket)\n",
    "d_basket.value_counts()"
   ]
  },
  {
   "cell_type": "markdown",
   "id": "03f1609d",
   "metadata": {},
   "source": [
    "#### maximum invoices were cleared with the span of time which is prior or after 15days the due_date."
   ]
  },
  {
   "cell_type": "code",
   "execution_count": 2428,
   "id": "c80f18a1",
   "metadata": {},
   "outputs": [],
   "source": [
    "X_train=pd.concat([X_train,Y_train],axis=1)"
   ]
  },
  {
   "cell_type": "code",
   "execution_count": 2429,
   "id": "02fb341b",
   "metadata": {},
   "outputs": [
    {
     "data": {
      "text/html": [
       "<div>\n",
       "<style scoped>\n",
       "    .dataframe tbody tr th:only-of-type {\n",
       "        vertical-align: middle;\n",
       "    }\n",
       "\n",
       "    .dataframe tbody tr th {\n",
       "        vertical-align: top;\n",
       "    }\n",
       "\n",
       "    .dataframe thead th {\n",
       "        text-align: right;\n",
       "    }\n",
       "</style>\n",
       "<table border=\"1\" class=\"dataframe\">\n",
       "  <thead>\n",
       "    <tr style=\"text-align: right;\">\n",
       "      <th></th>\n",
       "      <th>buisness_year</th>\n",
       "      <th>total_open_amount</th>\n",
       "      <th>isOpen</th>\n",
       "      <th>delay</th>\n",
       "    </tr>\n",
       "  </thead>\n",
       "  <tbody>\n",
       "    <tr>\n",
       "      <th>buisness_year</th>\n",
       "      <td>NaN</td>\n",
       "      <td>NaN</td>\n",
       "      <td>NaN</td>\n",
       "      <td>NaN</td>\n",
       "    </tr>\n",
       "    <tr>\n",
       "      <th>total_open_amount</th>\n",
       "      <td>NaN</td>\n",
       "      <td>1.000000</td>\n",
       "      <td>NaN</td>\n",
       "      <td>-0.000804</td>\n",
       "    </tr>\n",
       "    <tr>\n",
       "      <th>isOpen</th>\n",
       "      <td>NaN</td>\n",
       "      <td>NaN</td>\n",
       "      <td>NaN</td>\n",
       "      <td>NaN</td>\n",
       "    </tr>\n",
       "    <tr>\n",
       "      <th>delay</th>\n",
       "      <td>NaN</td>\n",
       "      <td>-0.000804</td>\n",
       "      <td>NaN</td>\n",
       "      <td>1.000000</td>\n",
       "    </tr>\n",
       "  </tbody>\n",
       "</table>\n",
       "</div>"
      ],
      "text/plain": [
       "                   buisness_year  total_open_amount  isOpen     delay\n",
       "buisness_year                NaN                NaN     NaN       NaN\n",
       "total_open_amount            NaN           1.000000     NaN -0.000804\n",
       "isOpen                       NaN                NaN     NaN       NaN\n",
       "delay                        NaN          -0.000804     NaN  1.000000"
      ]
     },
     "execution_count": 2429,
     "metadata": {},
     "output_type": "execute_result"
    }
   ],
   "source": [
    "X_train.corr()     #correlation of the training data set X_train. We can se the trend b/w total_open_amount and delay."
   ]
  },
  {
   "cell_type": "code",
   "execution_count": 2430,
   "id": "18c17714",
   "metadata": {},
   "outputs": [
    {
     "data": {
      "text/html": [
       "<div>\n",
       "<style scoped>\n",
       "    .dataframe tbody tr th:only-of-type {\n",
       "        vertical-align: middle;\n",
       "    }\n",
       "\n",
       "    .dataframe tbody tr th {\n",
       "        vertical-align: top;\n",
       "    }\n",
       "\n",
       "    .dataframe thead th {\n",
       "        text-align: right;\n",
       "    }\n",
       "</style>\n",
       "<table border=\"1\" class=\"dataframe\">\n",
       "  <thead>\n",
       "    <tr style=\"text-align: right;\">\n",
       "      <th></th>\n",
       "      <th>business_code</th>\n",
       "      <th>cust_number</th>\n",
       "      <th>name_customer</th>\n",
       "      <th>clear_date</th>\n",
       "      <th>buisness_year</th>\n",
       "      <th>posting_date</th>\n",
       "      <th>due_in_date</th>\n",
       "      <th>invoice_currency</th>\n",
       "      <th>total_open_amount</th>\n",
       "      <th>baseline_create_date</th>\n",
       "      <th>cust_payment_terms</th>\n",
       "      <th>isOpen</th>\n",
       "      <th>delay</th>\n",
       "    </tr>\n",
       "  </thead>\n",
       "  <tbody>\n",
       "    <tr>\n",
       "      <th>17651</th>\n",
       "      <td>U001</td>\n",
       "      <td>0200769623</td>\n",
       "      <td>WAL-MAR associates</td>\n",
       "      <td>2019-01-17</td>\n",
       "      <td>2019.0</td>\n",
       "      <td>2018-12-30</td>\n",
       "      <td>2019-01-14</td>\n",
       "      <td>USD</td>\n",
       "      <td>31227.25</td>\n",
       "      <td>2018-12-30</td>\n",
       "      <td>NAH4</td>\n",
       "      <td>0</td>\n",
       "      <td>3.0</td>\n",
       "    </tr>\n",
       "    <tr>\n",
       "      <th>7313</th>\n",
       "      <td>U001</td>\n",
       "      <td>0200769623</td>\n",
       "      <td>WAL-MAR foundation</td>\n",
       "      <td>2019-01-10</td>\n",
       "      <td>2019.0</td>\n",
       "      <td>2018-12-30</td>\n",
       "      <td>2019-01-14</td>\n",
       "      <td>USD</td>\n",
       "      <td>27642.47</td>\n",
       "      <td>2018-12-30</td>\n",
       "      <td>NAH4</td>\n",
       "      <td>0</td>\n",
       "      <td>-4.0</td>\n",
       "    </tr>\n",
       "    <tr>\n",
       "      <th>24571</th>\n",
       "      <td>U001</td>\n",
       "      <td>0200744019</td>\n",
       "      <td>TARG corp</td>\n",
       "      <td>2019-01-22</td>\n",
       "      <td>2019.0</td>\n",
       "      <td>2018-12-30</td>\n",
       "      <td>2019-01-14</td>\n",
       "      <td>USD</td>\n",
       "      <td>36285.96</td>\n",
       "      <td>2018-12-30</td>\n",
       "      <td>NAA8</td>\n",
       "      <td>0</td>\n",
       "      <td>8.0</td>\n",
       "    </tr>\n",
       "    <tr>\n",
       "      <th>40463</th>\n",
       "      <td>U001</td>\n",
       "      <td>0200726979</td>\n",
       "      <td>BJ'S  corporation</td>\n",
       "      <td>2019-01-15</td>\n",
       "      <td>2019.0</td>\n",
       "      <td>2018-12-30</td>\n",
       "      <td>2019-01-14</td>\n",
       "      <td>USD</td>\n",
       "      <td>205.13</td>\n",
       "      <td>2018-12-30</td>\n",
       "      <td>NAA8</td>\n",
       "      <td>0</td>\n",
       "      <td>1.0</td>\n",
       "    </tr>\n",
       "    <tr>\n",
       "      <th>14041</th>\n",
       "      <td>U001</td>\n",
       "      <td>0200705372</td>\n",
       "      <td>FR foundation</td>\n",
       "      <td>2019-01-14</td>\n",
       "      <td>2019.0</td>\n",
       "      <td>2018-12-30</td>\n",
       "      <td>2019-01-14</td>\n",
       "      <td>USD</td>\n",
       "      <td>80755.03</td>\n",
       "      <td>2018-12-30</td>\n",
       "      <td>NAA8</td>\n",
       "      <td>0</td>\n",
       "      <td>0.0</td>\n",
       "    </tr>\n",
       "    <tr>\n",
       "      <th>...</th>\n",
       "      <td>...</td>\n",
       "      <td>...</td>\n",
       "      <td>...</td>\n",
       "      <td>...</td>\n",
       "      <td>...</td>\n",
       "      <td>...</td>\n",
       "      <td>...</td>\n",
       "      <td>...</td>\n",
       "      <td>...</td>\n",
       "      <td>...</td>\n",
       "      <td>...</td>\n",
       "      <td>...</td>\n",
       "      <td>...</td>\n",
       "    </tr>\n",
       "    <tr>\n",
       "      <th>1942</th>\n",
       "      <td>U001</td>\n",
       "      <td>0200759082</td>\n",
       "      <td>INGL in</td>\n",
       "      <td>2019-10-22</td>\n",
       "      <td>2019.0</td>\n",
       "      <td>2019-10-07</td>\n",
       "      <td>2019-10-22</td>\n",
       "      <td>USD</td>\n",
       "      <td>24754.02</td>\n",
       "      <td>2019-10-07</td>\n",
       "      <td>NAA8</td>\n",
       "      <td>0</td>\n",
       "      <td>0.0</td>\n",
       "    </tr>\n",
       "    <tr>\n",
       "      <th>49835</th>\n",
       "      <td>U001</td>\n",
       "      <td>0200762301</td>\n",
       "      <td>C&amp;S WH in</td>\n",
       "      <td>2019-10-22</td>\n",
       "      <td>2019.0</td>\n",
       "      <td>2019-10-07</td>\n",
       "      <td>2019-10-22</td>\n",
       "      <td>USD</td>\n",
       "      <td>172589.64</td>\n",
       "      <td>2019-10-07</td>\n",
       "      <td>NAC6</td>\n",
       "      <td>0</td>\n",
       "      <td>0.0</td>\n",
       "    </tr>\n",
       "    <tr>\n",
       "      <th>47103</th>\n",
       "      <td>U001</td>\n",
       "      <td>0200759878</td>\n",
       "      <td>SA trust</td>\n",
       "      <td>2019-11-18</td>\n",
       "      <td>2019.0</td>\n",
       "      <td>2019-10-07</td>\n",
       "      <td>2019-11-16</td>\n",
       "      <td>USD</td>\n",
       "      <td>38528.00</td>\n",
       "      <td>2019-10-07</td>\n",
       "      <td>NAWU</td>\n",
       "      <td>0</td>\n",
       "      <td>2.0</td>\n",
       "    </tr>\n",
       "    <tr>\n",
       "      <th>42338</th>\n",
       "      <td>U001</td>\n",
       "      <td>0200434439</td>\n",
       "      <td>BAUGH SU in</td>\n",
       "      <td>2019-10-23</td>\n",
       "      <td>2019.0</td>\n",
       "      <td>2019-10-07</td>\n",
       "      <td>2019-10-22</td>\n",
       "      <td>USD</td>\n",
       "      <td>50031.99</td>\n",
       "      <td>2019-10-07</td>\n",
       "      <td>NAA8</td>\n",
       "      <td>0</td>\n",
       "      <td>1.0</td>\n",
       "    </tr>\n",
       "    <tr>\n",
       "      <th>33658</th>\n",
       "      <td>U001</td>\n",
       "      <td>0200780825</td>\n",
       "      <td>SYSCO FO associates</td>\n",
       "      <td>2019-10-24</td>\n",
       "      <td>2019.0</td>\n",
       "      <td>2019-10-07</td>\n",
       "      <td>2019-10-22</td>\n",
       "      <td>USD</td>\n",
       "      <td>1057.48</td>\n",
       "      <td>2019-10-07</td>\n",
       "      <td>NAA8</td>\n",
       "      <td>0</td>\n",
       "      <td>2.0</td>\n",
       "    </tr>\n",
       "  </tbody>\n",
       "</table>\n",
       "<p>27997 rows × 13 columns</p>\n",
       "</div>"
      ],
      "text/plain": [
       "      business_code cust_number        name_customer clear_date  \\\n",
       "17651          U001  0200769623   WAL-MAR associates 2019-01-17   \n",
       "7313           U001  0200769623   WAL-MAR foundation 2019-01-10   \n",
       "24571          U001  0200744019            TARG corp 2019-01-22   \n",
       "40463          U001  0200726979    BJ'S  corporation 2019-01-15   \n",
       "14041          U001  0200705372        FR foundation 2019-01-14   \n",
       "...             ...         ...                  ...        ...   \n",
       "1942           U001  0200759082              INGL in 2019-10-22   \n",
       "49835          U001  0200762301            C&S WH in 2019-10-22   \n",
       "47103          U001  0200759878             SA trust 2019-11-18   \n",
       "42338          U001  0200434439          BAUGH SU in 2019-10-23   \n",
       "33658          U001  0200780825  SYSCO FO associates 2019-10-24   \n",
       "\n",
       "       buisness_year posting_date due_in_date invoice_currency  \\\n",
       "17651         2019.0   2018-12-30  2019-01-14              USD   \n",
       "7313          2019.0   2018-12-30  2019-01-14              USD   \n",
       "24571         2019.0   2018-12-30  2019-01-14              USD   \n",
       "40463         2019.0   2018-12-30  2019-01-14              USD   \n",
       "14041         2019.0   2018-12-30  2019-01-14              USD   \n",
       "...              ...          ...         ...              ...   \n",
       "1942          2019.0   2019-10-07  2019-10-22              USD   \n",
       "49835         2019.0   2019-10-07  2019-10-22              USD   \n",
       "47103         2019.0   2019-10-07  2019-11-16              USD   \n",
       "42338         2019.0   2019-10-07  2019-10-22              USD   \n",
       "33658         2019.0   2019-10-07  2019-10-22              USD   \n",
       "\n",
       "       total_open_amount baseline_create_date cust_payment_terms  isOpen  \\\n",
       "17651           31227.25           2018-12-30               NAH4       0   \n",
       "7313            27642.47           2018-12-30               NAH4       0   \n",
       "24571           36285.96           2018-12-30               NAA8       0   \n",
       "40463             205.13           2018-12-30               NAA8       0   \n",
       "14041           80755.03           2018-12-30               NAA8       0   \n",
       "...                  ...                  ...                ...     ...   \n",
       "1942            24754.02           2019-10-07               NAA8       0   \n",
       "49835          172589.64           2019-10-07               NAC6       0   \n",
       "47103           38528.00           2019-10-07               NAWU       0   \n",
       "42338           50031.99           2019-10-07               NAA8       0   \n",
       "33658            1057.48           2019-10-07               NAA8       0   \n",
       "\n",
       "       delay  \n",
       "17651    3.0  \n",
       "7313    -4.0  \n",
       "24571    8.0  \n",
       "40463    1.0  \n",
       "14041    0.0  \n",
       "...      ...  \n",
       "1942     0.0  \n",
       "49835    0.0  \n",
       "47103    2.0  \n",
       "42338    1.0  \n",
       "33658    2.0  \n",
       "\n",
       "[27997 rows x 13 columns]"
      ]
     },
     "execution_count": 2430,
     "metadata": {},
     "output_type": "execute_result"
    }
   ],
   "source": [
    "X_train"
   ]
  },
  {
   "cell_type": "code",
   "execution_count": 2431,
   "id": "5e977ec8",
   "metadata": {},
   "outputs": [
    {
     "data": {
      "text/plain": [
       "<seaborn.axisgrid.FacetGrid at 0x1b62e97b608>"
      ]
     },
     "execution_count": 2431,
     "metadata": {},
     "output_type": "execute_result"
    },
    {
     "data": {
      "image/png": "[encoded data removed]",
      "text/plain": [
       "<Figure size 360x360 with 1 Axes>"
      ]
     },
     "metadata": {
      "needs_background": "light"
     },
     "output_type": "display_data"
    }
   ],
   "source": [
    "sns.relplot(x='cust_payment_terms',y='total_open_amount', data=data)"
   ]
  },
  {
   "cell_type": "code",
   "execution_count": 2432,
   "id": "9aefb992",
   "metadata": {},
   "outputs": [
    {
     "data": {
      "text/plain": [
       "<seaborn.axisgrid.FacetGrid at 0x1b62e888b88>"
      ]
     },
     "execution_count": 2432,
     "metadata": {},
     "output_type": "execute_result"
    },
    {
     "data": {
      "image/png": "[encoded data removed]",
      "text/plain": [
       "<Figure size 360x360 with 1 Axes>"
      ]
     },
     "metadata": {
      "needs_background": "light"
     },
     "output_type": "display_data"
    }
   ],
   "source": [
    "sns.relplot(x='business_code', y='total_open_amount',data=data)"
   ]
  },
  {
   "cell_type": "markdown",
   "id": "9e19e175",
   "metadata": {},
   "source": [
    "#### This graph tells that highest transactions were of U001 category and the lowest outstanding amounts were that of U007 category."
   ]
  },
  {
   "cell_type": "code",
   "execution_count": 2433,
   "id": "337e8c1d",
   "metadata": {},
   "outputs": [
    {
     "data": {
      "text/plain": [
       "<AxesSubplot:xlabel='delay', ylabel='Density'>"
      ]
     },
     "execution_count": 2433,
     "metadata": {},
     "output_type": "execute_result"
    },
    {
     "data": {
      "image/png": "[encoded data removed]",
      "text/plain": [
       "<Figure size 432x288 with 1 Axes>"
      ]
     },
     "metadata": {
      "needs_background": "light"
     },
     "output_type": "display_data"
    }
   ],
   "source": [
    "sns.distplot(X_train['delay'])\n",
    "#This graph again shows that the density of delay lies between -15 to +15 days (approximate) of due_date."
   ]
  },
  {
   "cell_type": "code",
   "execution_count": 2434,
   "id": "247f6400",
   "metadata": {},
   "outputs": [
    {
     "data": {
      "text/plain": [
       "<seaborn.axisgrid.FacetGrid at 0x1b62ed12108>"
      ]
     },
     "execution_count": 2434,
     "metadata": {},
     "output_type": "execute_result"
    },
    {
     "data": {
      "image/png": "[encoded data removed]",
      "text/plain": [
       "<Figure size 360x360 with 1 Axes>"
      ]
     },
     "metadata": {
      "needs_background": "light"
     },
     "output_type": "display_data"
    }
   ],
   "source": [
    "sns.relplot(x='cust_payment_terms', y='business_code',data=data)"
   ]
  },
  {
   "cell_type": "code",
   "execution_count": 2435,
   "id": "3d22127b",
   "metadata": {},
   "outputs": [
    {
     "data": {
      "text/plain": [
       "<seaborn.axisgrid.FacetGrid at 0x1b62438a448>"
      ]
     },
     "execution_count": 2435,
     "metadata": {},
     "output_type": "execute_result"
    },
    {
     "data": {
      "image/png": "[encoded data removed]",
      "text/plain": [
       "<Figure size 360x360 with 1 Axes>"
      ]
     },
     "metadata": {
      "needs_background": "light"
     },
     "output_type": "display_data"
    }
   ],
   "source": [
    "sns.relplot(x='cust_payment_terms', y='delay',data=data)"
   ]
  },
  {
   "cell_type": "code",
   "execution_count": 2436,
   "id": "b2f30129",
   "metadata": {},
   "outputs": [
    {
     "data": {
      "text/plain": [
       "<seaborn.axisgrid.FacetGrid at 0x1b624346408>"
      ]
     },
     "execution_count": 2436,
     "metadata": {},
     "output_type": "execute_result"
    },
    {
     "data": {
      "image/png": "[encoded data removed]",
      "text/plain": [
       "<Figure size 360x360 with 1 Axes>"
      ]
     },
     "metadata": {
      "needs_background": "light"
     },
     "output_type": "display_data"
    }
   ],
   "source": [
    "sns.relplot(x='delay', y='business_code',data=data)"
   ]
  },
  {
   "cell_type": "code",
   "execution_count": 2437,
   "id": "5fee28d3",
   "metadata": {},
   "outputs": [
    {
     "data": {
      "text/plain": [
       "<seaborn.axisgrid.FacetGrid at 0x1b62d57f348>"
      ]
     },
     "execution_count": 2437,
     "metadata": {},
     "output_type": "execute_result"
    },
    {
     "data": {
      "image/png": "[encoded data removed]",
      "text/plain": [
       "<Figure size 360x360 with 1 Axes>"
      ]
     },
     "metadata": {
      "needs_background": "light"
     },
     "output_type": "display_data"
    }
   ],
   "source": [
    "sns.relplot(x='delay', y='total_open_amount',data=data)"
   ]
  },
  {
   "cell_type": "markdown",
   "id": "93827704",
   "metadata": {},
   "source": [
    "    Total_open_amount <--> 1/delay    correlation-> -ve\n",
    "    This means that as the delay increases, the total_open_amount decreases. "
   ]
  },
  {
   "cell_type": "markdown",
   "id": "d39c179f",
   "metadata": {},
   "source": [
    "## 6.1 Feature Engineering"
   ]
  },
  {
   "cell_type": "markdown",
   "id": "8a25c6fe",
   "metadata": {},
   "source": [
    "#### Let's drop all the unnecessary columns in train, val, test and move ahead with the required features for the prediction."
   ]
  },
  {
   "cell_type": "code",
   "execution_count": 2438,
   "id": "dd397bf3",
   "metadata": {},
   "outputs": [],
   "source": [
    "X_train.drop(columns=['name_customer','buisness_year','invoice_currency','baseline_create_date','isOpen'],inplace=True)\n",
    "X_val.drop(columns=['name_customer','buisness_year','invoice_currency','baseline_create_date','isOpen'],inplace=True)\n",
    "X_test.drop(columns=['name_customer','buisness_year','invoice_currency','baseline_create_date','isOpen'],inplace=True)\n"
   ]
  },
  {
   "cell_type": "code",
   "execution_count": 2439,
   "id": "ccb43720",
   "metadata": {},
   "outputs": [
    {
     "data": {
      "text/html": [
       "<div>\n",
       "<style scoped>\n",
       "    .dataframe tbody tr th:only-of-type {\n",
       "        vertical-align: middle;\n",
       "    }\n",
       "\n",
       "    .dataframe tbody tr th {\n",
       "        vertical-align: top;\n",
       "    }\n",
       "\n",
       "    .dataframe thead th {\n",
       "        text-align: right;\n",
       "    }\n",
       "</style>\n",
       "<table border=\"1\" class=\"dataframe\">\n",
       "  <thead>\n",
       "    <tr style=\"text-align: right;\">\n",
       "      <th></th>\n",
       "      <th>business_code</th>\n",
       "      <th>cust_number</th>\n",
       "      <th>clear_date</th>\n",
       "      <th>posting_date</th>\n",
       "      <th>due_in_date</th>\n",
       "      <th>total_open_amount</th>\n",
       "      <th>cust_payment_terms</th>\n",
       "      <th>delay</th>\n",
       "    </tr>\n",
       "  </thead>\n",
       "  <tbody>\n",
       "    <tr>\n",
       "      <th>17651</th>\n",
       "      <td>U001</td>\n",
       "      <td>0200769623</td>\n",
       "      <td>2019-01-17</td>\n",
       "      <td>2018-12-30</td>\n",
       "      <td>2019-01-14</td>\n",
       "      <td>31227.25</td>\n",
       "      <td>NAH4</td>\n",
       "      <td>3.0</td>\n",
       "    </tr>\n",
       "    <tr>\n",
       "      <th>7313</th>\n",
       "      <td>U001</td>\n",
       "      <td>0200769623</td>\n",
       "      <td>2019-01-10</td>\n",
       "      <td>2018-12-30</td>\n",
       "      <td>2019-01-14</td>\n",
       "      <td>27642.47</td>\n",
       "      <td>NAH4</td>\n",
       "      <td>-4.0</td>\n",
       "    </tr>\n",
       "    <tr>\n",
       "      <th>24571</th>\n",
       "      <td>U001</td>\n",
       "      <td>0200744019</td>\n",
       "      <td>2019-01-22</td>\n",
       "      <td>2018-12-30</td>\n",
       "      <td>2019-01-14</td>\n",
       "      <td>36285.96</td>\n",
       "      <td>NAA8</td>\n",
       "      <td>8.0</td>\n",
       "    </tr>\n",
       "    <tr>\n",
       "      <th>40463</th>\n",
       "      <td>U001</td>\n",
       "      <td>0200726979</td>\n",
       "      <td>2019-01-15</td>\n",
       "      <td>2018-12-30</td>\n",
       "      <td>2019-01-14</td>\n",
       "      <td>205.13</td>\n",
       "      <td>NAA8</td>\n",
       "      <td>1.0</td>\n",
       "    </tr>\n",
       "    <tr>\n",
       "      <th>14041</th>\n",
       "      <td>U001</td>\n",
       "      <td>0200705372</td>\n",
       "      <td>2019-01-14</td>\n",
       "      <td>2018-12-30</td>\n",
       "      <td>2019-01-14</td>\n",
       "      <td>80755.03</td>\n",
       "      <td>NAA8</td>\n",
       "      <td>0.0</td>\n",
       "    </tr>\n",
       "    <tr>\n",
       "      <th>...</th>\n",
       "      <td>...</td>\n",
       "      <td>...</td>\n",
       "      <td>...</td>\n",
       "      <td>...</td>\n",
       "      <td>...</td>\n",
       "      <td>...</td>\n",
       "      <td>...</td>\n",
       "      <td>...</td>\n",
       "    </tr>\n",
       "    <tr>\n",
       "      <th>1942</th>\n",
       "      <td>U001</td>\n",
       "      <td>0200759082</td>\n",
       "      <td>2019-10-22</td>\n",
       "      <td>2019-10-07</td>\n",
       "      <td>2019-10-22</td>\n",
       "      <td>24754.02</td>\n",
       "      <td>NAA8</td>\n",
       "      <td>0.0</td>\n",
       "    </tr>\n",
       "    <tr>\n",
       "      <th>49835</th>\n",
       "      <td>U001</td>\n",
       "      <td>0200762301</td>\n",
       "      <td>2019-10-22</td>\n",
       "      <td>2019-10-07</td>\n",
       "      <td>2019-10-22</td>\n",
       "      <td>172589.64</td>\n",
       "      <td>NAC6</td>\n",
       "      <td>0.0</td>\n",
       "    </tr>\n",
       "    <tr>\n",
       "      <th>47103</th>\n",
       "      <td>U001</td>\n",
       "      <td>0200759878</td>\n",
       "      <td>2019-11-18</td>\n",
       "      <td>2019-10-07</td>\n",
       "      <td>2019-11-16</td>\n",
       "      <td>38528.00</td>\n",
       "      <td>NAWU</td>\n",
       "      <td>2.0</td>\n",
       "    </tr>\n",
       "    <tr>\n",
       "      <th>42338</th>\n",
       "      <td>U001</td>\n",
       "      <td>0200434439</td>\n",
       "      <td>2019-10-23</td>\n",
       "      <td>2019-10-07</td>\n",
       "      <td>2019-10-22</td>\n",
       "      <td>50031.99</td>\n",
       "      <td>NAA8</td>\n",
       "      <td>1.0</td>\n",
       "    </tr>\n",
       "    <tr>\n",
       "      <th>33658</th>\n",
       "      <td>U001</td>\n",
       "      <td>0200780825</td>\n",
       "      <td>2019-10-24</td>\n",
       "      <td>2019-10-07</td>\n",
       "      <td>2019-10-22</td>\n",
       "      <td>1057.48</td>\n",
       "      <td>NAA8</td>\n",
       "      <td>2.0</td>\n",
       "    </tr>\n",
       "  </tbody>\n",
       "</table>\n",
       "<p>27997 rows × 8 columns</p>\n",
       "</div>"
      ],
      "text/plain": [
       "      business_code cust_number clear_date posting_date due_in_date  \\\n",
       "17651          U001  0200769623 2019-01-17   2018-12-30  2019-01-14   \n",
       "7313           U001  0200769623 2019-01-10   2018-12-30  2019-01-14   \n",
       "24571          U001  0200744019 2019-01-22   2018-12-30  2019-01-14   \n",
       "40463          U001  0200726979 2019-01-15   2018-12-30  2019-01-14   \n",
       "14041          U001  0200705372 2019-01-14   2018-12-30  2019-01-14   \n",
       "...             ...         ...        ...          ...         ...   \n",
       "1942           U001  0200759082 2019-10-22   2019-10-07  2019-10-22   \n",
       "49835          U001  0200762301 2019-10-22   2019-10-07  2019-10-22   \n",
       "47103          U001  0200759878 2019-11-18   2019-10-07  2019-11-16   \n",
       "42338          U001  0200434439 2019-10-23   2019-10-07  2019-10-22   \n",
       "33658          U001  0200780825 2019-10-24   2019-10-07  2019-10-22   \n",
       "\n",
       "       total_open_amount cust_payment_terms  delay  \n",
       "17651           31227.25               NAH4    3.0  \n",
       "7313            27642.47               NAH4   -4.0  \n",
       "24571           36285.96               NAA8    8.0  \n",
       "40463             205.13               NAA8    1.0  \n",
       "14041           80755.03               NAA8    0.0  \n",
       "...                  ...                ...    ...  \n",
       "1942            24754.02               NAA8    0.0  \n",
       "49835          172589.64               NAC6    0.0  \n",
       "47103           38528.00               NAWU    2.0  \n",
       "42338           50031.99               NAA8    1.0  \n",
       "33658            1057.48               NAA8    2.0  \n",
       "\n",
       "[27997 rows x 8 columns]"
      ]
     },
     "execution_count": 2439,
     "metadata": {},
     "output_type": "execute_result"
    }
   ],
   "source": [
    "X_train.shape, X_val.shape, X_test.shape\n",
    "X_train"
   ]
  },
  {
   "cell_type": "code",
   "execution_count": 2440,
   "id": "4a5cbe71",
   "metadata": {},
   "outputs": [
    {
     "name": "stdout",
     "output_type": "stream",
     "text": [
      "<class 'pandas.core.frame.DataFrame'>\n",
      "Int64Index: 27997 entries, 17651 to 33658\n",
      "Data columns (total 8 columns):\n",
      " #   Column              Non-Null Count  Dtype         \n",
      "---  ------              --------------  -----         \n",
      " 0   business_code       27997 non-null  object        \n",
      " 1   cust_number         27997 non-null  object        \n",
      " 2   clear_date          27997 non-null  datetime64[ns]\n",
      " 3   posting_date        27997 non-null  datetime64[ns]\n",
      " 4   due_in_date         27997 non-null  datetime64[ns]\n",
      " 5   total_open_amount   27997 non-null  float64       \n",
      " 6   cust_payment_terms  27997 non-null  object        \n",
      " 7   delay               27997 non-null  float64       \n",
      "dtypes: datetime64[ns](3), float64(2), object(3)\n",
      "memory usage: 2.9+ MB\n"
     ]
    }
   ],
   "source": [
    "X_train.info()"
   ]
  },
  {
   "cell_type": "markdown",
   "id": "8b0555ab",
   "metadata": {},
   "source": [
    "#### We will create different columns for days and months to ease the calculation and the remove the current columns.\n",
    "\n",
    "#### motive- The more integer datatypes we have, we are closer to creating the model with efficient features."
   ]
  },
  {
   "cell_type": "code",
   "execution_count": 2441,
   "id": "64053e05",
   "metadata": {},
   "outputs": [],
   "source": [
    "X_train['posting_day']=X_train['posting_date'].dt.day\n",
    "X_train['posting_month']=X_train['posting_date'].dt.month\n",
    "X_train['due_in_day']=X_train['due_in_date'].dt.day\n",
    "X_train['due_in_month']=X_train['due_in_date'].dt.month\n",
    "X_train['cust_no']=X_train['cust_number'].str.extract('(\\d+)')    #extracting the integer part of customer  number\n",
    "X_train.drop(columns=['delay','posting_date','due_in_date','cust_number'],axis=1,inplace=True)\n",
    "\n",
    "X_val['posting_day']=X_val['posting_date'].dt.day\n",
    "X_val['posting_month']=X_val['posting_date'].dt.month\n",
    "X_val['due_in_day']=X_val['due_in_date'].dt.day\n",
    "X_val['due_in_month']=X_val['due_in_date'].dt.month\n",
    "X_val['cust_no']=X_val['cust_number'].str.extract('(\\d+)')\n",
    "X_val.drop(columns=['posting_date','due_in_date','cust_number'],axis=1,inplace=True)\n",
    "\n",
    "X_test['posting_day']=X_test['posting_date'].dt.day\n",
    "X_test['posting_month']=X_test['posting_date'].dt.month\n",
    "X_test['due_in_day']=X_test['due_in_date'].dt.day\n",
    "X_test['due_in_month']=X_test['due_in_date'].dt.month\n",
    "X_test['cust_no']=X_test['cust_number'].str.extract('(\\d+)')\n",
    "X_test.drop(columns=['posting_date','due_in_date','cust_number'],axis=1,inplace=True)"
   ]
  },
  {
   "cell_type": "code",
   "execution_count": 2442,
   "id": "06fbd608",
   "metadata": {},
   "outputs": [
    {
     "data": {
      "text/html": [
       "<div>\n",
       "<style scoped>\n",
       "    .dataframe tbody tr th:only-of-type {\n",
       "        vertical-align: middle;\n",
       "    }\n",
       "\n",
       "    .dataframe tbody tr th {\n",
       "        vertical-align: top;\n",
       "    }\n",
       "\n",
       "    .dataframe thead th {\n",
       "        text-align: right;\n",
       "    }\n",
       "</style>\n",
       "<table border=\"1\" class=\"dataframe\">\n",
       "  <thead>\n",
       "    <tr style=\"text-align: right;\">\n",
       "      <th></th>\n",
       "      <th>business_code</th>\n",
       "      <th>clear_date</th>\n",
       "      <th>total_open_amount</th>\n",
       "      <th>cust_payment_terms</th>\n",
       "      <th>posting_day</th>\n",
       "      <th>posting_month</th>\n",
       "      <th>due_in_day</th>\n",
       "      <th>due_in_month</th>\n",
       "      <th>cust_no</th>\n",
       "    </tr>\n",
       "  </thead>\n",
       "  <tbody>\n",
       "    <tr>\n",
       "      <th>17651</th>\n",
       "      <td>U001</td>\n",
       "      <td>2019-01-17</td>\n",
       "      <td>31227.25</td>\n",
       "      <td>NAH4</td>\n",
       "      <td>30</td>\n",
       "      <td>12</td>\n",
       "      <td>14</td>\n",
       "      <td>1</td>\n",
       "      <td>0200769623</td>\n",
       "    </tr>\n",
       "    <tr>\n",
       "      <th>7313</th>\n",
       "      <td>U001</td>\n",
       "      <td>2019-01-10</td>\n",
       "      <td>27642.47</td>\n",
       "      <td>NAH4</td>\n",
       "      <td>30</td>\n",
       "      <td>12</td>\n",
       "      <td>14</td>\n",
       "      <td>1</td>\n",
       "      <td>0200769623</td>\n",
       "    </tr>\n",
       "    <tr>\n",
       "      <th>24571</th>\n",
       "      <td>U001</td>\n",
       "      <td>2019-01-22</td>\n",
       "      <td>36285.96</td>\n",
       "      <td>NAA8</td>\n",
       "      <td>30</td>\n",
       "      <td>12</td>\n",
       "      <td>14</td>\n",
       "      <td>1</td>\n",
       "      <td>0200744019</td>\n",
       "    </tr>\n",
       "    <tr>\n",
       "      <th>40463</th>\n",
       "      <td>U001</td>\n",
       "      <td>2019-01-15</td>\n",
       "      <td>205.13</td>\n",
       "      <td>NAA8</td>\n",
       "      <td>30</td>\n",
       "      <td>12</td>\n",
       "      <td>14</td>\n",
       "      <td>1</td>\n",
       "      <td>0200726979</td>\n",
       "    </tr>\n",
       "    <tr>\n",
       "      <th>14041</th>\n",
       "      <td>U001</td>\n",
       "      <td>2019-01-14</td>\n",
       "      <td>80755.03</td>\n",
       "      <td>NAA8</td>\n",
       "      <td>30</td>\n",
       "      <td>12</td>\n",
       "      <td>14</td>\n",
       "      <td>1</td>\n",
       "      <td>0200705372</td>\n",
       "    </tr>\n",
       "    <tr>\n",
       "      <th>...</th>\n",
       "      <td>...</td>\n",
       "      <td>...</td>\n",
       "      <td>...</td>\n",
       "      <td>...</td>\n",
       "      <td>...</td>\n",
       "      <td>...</td>\n",
       "      <td>...</td>\n",
       "      <td>...</td>\n",
       "      <td>...</td>\n",
       "    </tr>\n",
       "    <tr>\n",
       "      <th>1942</th>\n",
       "      <td>U001</td>\n",
       "      <td>2019-10-22</td>\n",
       "      <td>24754.02</td>\n",
       "      <td>NAA8</td>\n",
       "      <td>7</td>\n",
       "      <td>10</td>\n",
       "      <td>22</td>\n",
       "      <td>10</td>\n",
       "      <td>0200759082</td>\n",
       "    </tr>\n",
       "    <tr>\n",
       "      <th>49835</th>\n",
       "      <td>U001</td>\n",
       "      <td>2019-10-22</td>\n",
       "      <td>172589.64</td>\n",
       "      <td>NAC6</td>\n",
       "      <td>7</td>\n",
       "      <td>10</td>\n",
       "      <td>22</td>\n",
       "      <td>10</td>\n",
       "      <td>0200762301</td>\n",
       "    </tr>\n",
       "    <tr>\n",
       "      <th>47103</th>\n",
       "      <td>U001</td>\n",
       "      <td>2019-11-18</td>\n",
       "      <td>38528.00</td>\n",
       "      <td>NAWU</td>\n",
       "      <td>7</td>\n",
       "      <td>10</td>\n",
       "      <td>16</td>\n",
       "      <td>11</td>\n",
       "      <td>0200759878</td>\n",
       "    </tr>\n",
       "    <tr>\n",
       "      <th>42338</th>\n",
       "      <td>U001</td>\n",
       "      <td>2019-10-23</td>\n",
       "      <td>50031.99</td>\n",
       "      <td>NAA8</td>\n",
       "      <td>7</td>\n",
       "      <td>10</td>\n",
       "      <td>22</td>\n",
       "      <td>10</td>\n",
       "      <td>0200434439</td>\n",
       "    </tr>\n",
       "    <tr>\n",
       "      <th>33658</th>\n",
       "      <td>U001</td>\n",
       "      <td>2019-10-24</td>\n",
       "      <td>1057.48</td>\n",
       "      <td>NAA8</td>\n",
       "      <td>7</td>\n",
       "      <td>10</td>\n",
       "      <td>22</td>\n",
       "      <td>10</td>\n",
       "      <td>0200780825</td>\n",
       "    </tr>\n",
       "  </tbody>\n",
       "</table>\n",
       "<p>27997 rows × 9 columns</p>\n",
       "</div>"
      ],
      "text/plain": [
       "      business_code clear_date  total_open_amount cust_payment_terms  \\\n",
       "17651          U001 2019-01-17           31227.25               NAH4   \n",
       "7313           U001 2019-01-10           27642.47               NAH4   \n",
       "24571          U001 2019-01-22           36285.96               NAA8   \n",
       "40463          U001 2019-01-15             205.13               NAA8   \n",
       "14041          U001 2019-01-14           80755.03               NAA8   \n",
       "...             ...        ...                ...                ...   \n",
       "1942           U001 2019-10-22           24754.02               NAA8   \n",
       "49835          U001 2019-10-22          172589.64               NAC6   \n",
       "47103          U001 2019-11-18           38528.00               NAWU   \n",
       "42338          U001 2019-10-23           50031.99               NAA8   \n",
       "33658          U001 2019-10-24            1057.48               NAA8   \n",
       "\n",
       "       posting_day  posting_month  due_in_day  due_in_month     cust_no  \n",
       "17651           30             12          14             1  0200769623  \n",
       "7313            30             12          14             1  0200769623  \n",
       "24571           30             12          14             1  0200744019  \n",
       "40463           30             12          14             1  0200726979  \n",
       "14041           30             12          14             1  0200705372  \n",
       "...            ...            ...         ...           ...         ...  \n",
       "1942             7             10          22            10  0200759082  \n",
       "49835            7             10          22            10  0200762301  \n",
       "47103            7             10          16            11  0200759878  \n",
       "42338            7             10          22            10  0200434439  \n",
       "33658            7             10          22            10  0200780825  \n",
       "\n",
       "[27997 rows x 9 columns]"
      ]
     },
     "execution_count": 2442,
     "metadata": {},
     "output_type": "execute_result"
    }
   ],
   "source": [
    "X_train"
   ]
  },
  {
   "cell_type": "code",
   "execution_count": 2443,
   "id": "83146af9",
   "metadata": {},
   "outputs": [
    {
     "name": "stdout",
     "output_type": "stream",
     "text": [
      "<class 'pandas.core.frame.DataFrame'>\n",
      "Int64Index: 27997 entries, 17651 to 33658\n",
      "Data columns (total 9 columns):\n",
      " #   Column              Non-Null Count  Dtype         \n",
      "---  ------              --------------  -----         \n",
      " 0   business_code       27997 non-null  object        \n",
      " 1   clear_date          27997 non-null  datetime64[ns]\n",
      " 2   total_open_amount   27997 non-null  float64       \n",
      " 3   cust_payment_terms  27997 non-null  object        \n",
      " 4   posting_day         27997 non-null  int64         \n",
      " 5   posting_month       27997 non-null  int64         \n",
      " 6   due_in_day          27997 non-null  int64         \n",
      " 7   due_in_month        27997 non-null  int64         \n",
      " 8   cust_no             27997 non-null  object        \n",
      "dtypes: datetime64[ns](1), float64(1), int64(4), object(3)\n",
      "memory usage: 3.1+ MB\n"
     ]
    }
   ],
   "source": [
    "X_train.info()"
   ]
  },
  {
   "cell_type": "markdown",
   "id": "289027d7",
   "metadata": {},
   "source": [
    "#### We need to convert thr cust_no from object data type to float data type to make it easily understable to machine."
   ]
  },
  {
   "cell_type": "code",
   "execution_count": 2444,
   "id": "2d3ec583",
   "metadata": {},
   "outputs": [
    {
     "name": "stdout",
     "output_type": "stream",
     "text": [
      "<class 'pandas.core.frame.DataFrame'>\n",
      "Int64Index: 27997 entries, 17651 to 33658\n",
      "Data columns (total 9 columns):\n",
      " #   Column              Non-Null Count  Dtype         \n",
      "---  ------              --------------  -----         \n",
      " 0   business_code       27997 non-null  object        \n",
      " 1   clear_date          27997 non-null  datetime64[ns]\n",
      " 2   total_open_amount   27997 non-null  float64       \n",
      " 3   cust_payment_terms  27997 non-null  object        \n",
      " 4   posting_day         27997 non-null  int64         \n",
      " 5   posting_month       27997 non-null  int64         \n",
      " 6   due_in_day          27997 non-null  int64         \n",
      " 7   due_in_month        27997 non-null  int64         \n",
      " 8   cust_no             27997 non-null  float64       \n",
      "dtypes: datetime64[ns](1), float64(2), int64(4), object(2)\n",
      "memory usage: 3.1+ MB\n"
     ]
    }
   ],
   "source": [
    "X_train['cust_no']=X_train['cust_no'].astype(str).astype(float)\n",
    "X_val['cust_no']=X_val['cust_no'].astype(str).astype(float)\n",
    "X_test['cust_no']=X_test['cust_no'].astype(str).astype(float)\n",
    "X_train.info()"
   ]
  },
  {
   "cell_type": "markdown",
   "id": "10e59d99",
   "metadata": {},
   "source": [
    "#### Since we have business_code as an object type and there are only 6 of them. So, we can apply Label Encoder to convert the feature into int type by allocating every category a specific number. After applying this, every category name will be having a particular number respective to the name making it easy for us to drop the object_column."
   ]
  },
  {
   "cell_type": "code",
   "execution_count": 2445,
   "id": "2942e07a",
   "metadata": {},
   "outputs": [],
   "source": [
    "from sklearn.preprocessing import LabelEncoder\n",
    "B_encoder=LabelEncoder()\n",
    "B_encoder.fit(X_train['business_code'])\n",
    "X_train['B_code']=B_encoder.transform(X_train['business_code'])\n",
    "X_val['B_code']=B_encoder.transform(X_val['business_code'])\n",
    "X_test['B_code']=B_encoder.transform(X_test['business_code'])\n",
    "X_train.drop(['business_code'],axis=1, inplace=True)\n",
    "X_val.drop(['business_code'],axis=1, inplace=True)\n",
    "X_test.drop(['business_code'],axis=1, inplace=True)"
   ]
  },
  {
   "cell_type": "code",
   "execution_count": 2446,
   "id": "09d19eed",
   "metadata": {},
   "outputs": [
    {
     "data": {
      "text/html": [
       "<div>\n",
       "<style scoped>\n",
       "    .dataframe tbody tr th:only-of-type {\n",
       "        vertical-align: middle;\n",
       "    }\n",
       "\n",
       "    .dataframe tbody tr th {\n",
       "        vertical-align: top;\n",
       "    }\n",
       "\n",
       "    .dataframe thead th {\n",
       "        text-align: right;\n",
       "    }\n",
       "</style>\n",
       "<table border=\"1\" class=\"dataframe\">\n",
       "  <thead>\n",
       "    <tr style=\"text-align: right;\">\n",
       "      <th></th>\n",
       "      <th>clear_date</th>\n",
       "      <th>total_open_amount</th>\n",
       "      <th>cust_payment_terms</th>\n",
       "      <th>posting_day</th>\n",
       "      <th>posting_month</th>\n",
       "      <th>due_in_day</th>\n",
       "      <th>due_in_month</th>\n",
       "      <th>cust_no</th>\n",
       "      <th>B_code</th>\n",
       "    </tr>\n",
       "  </thead>\n",
       "  <tbody>\n",
       "    <tr>\n",
       "      <th>17651</th>\n",
       "      <td>2019-01-17</td>\n",
       "      <td>31227.25</td>\n",
       "      <td>NAH4</td>\n",
       "      <td>30</td>\n",
       "      <td>12</td>\n",
       "      <td>14</td>\n",
       "      <td>1</td>\n",
       "      <td>200769623.0</td>\n",
       "      <td>1</td>\n",
       "    </tr>\n",
       "    <tr>\n",
       "      <th>7313</th>\n",
       "      <td>2019-01-10</td>\n",
       "      <td>27642.47</td>\n",
       "      <td>NAH4</td>\n",
       "      <td>30</td>\n",
       "      <td>12</td>\n",
       "      <td>14</td>\n",
       "      <td>1</td>\n",
       "      <td>200769623.0</td>\n",
       "      <td>1</td>\n",
       "    </tr>\n",
       "    <tr>\n",
       "      <th>24571</th>\n",
       "      <td>2019-01-22</td>\n",
       "      <td>36285.96</td>\n",
       "      <td>NAA8</td>\n",
       "      <td>30</td>\n",
       "      <td>12</td>\n",
       "      <td>14</td>\n",
       "      <td>1</td>\n",
       "      <td>200744019.0</td>\n",
       "      <td>1</td>\n",
       "    </tr>\n",
       "    <tr>\n",
       "      <th>40463</th>\n",
       "      <td>2019-01-15</td>\n",
       "      <td>205.13</td>\n",
       "      <td>NAA8</td>\n",
       "      <td>30</td>\n",
       "      <td>12</td>\n",
       "      <td>14</td>\n",
       "      <td>1</td>\n",
       "      <td>200726979.0</td>\n",
       "      <td>1</td>\n",
       "    </tr>\n",
       "    <tr>\n",
       "      <th>14041</th>\n",
       "      <td>2019-01-14</td>\n",
       "      <td>80755.03</td>\n",
       "      <td>NAA8</td>\n",
       "      <td>30</td>\n",
       "      <td>12</td>\n",
       "      <td>14</td>\n",
       "      <td>1</td>\n",
       "      <td>200705372.0</td>\n",
       "      <td>1</td>\n",
       "    </tr>\n",
       "    <tr>\n",
       "      <th>...</th>\n",
       "      <td>...</td>\n",
       "      <td>...</td>\n",
       "      <td>...</td>\n",
       "      <td>...</td>\n",
       "      <td>...</td>\n",
       "      <td>...</td>\n",
       "      <td>...</td>\n",
       "      <td>...</td>\n",
       "      <td>...</td>\n",
       "    </tr>\n",
       "    <tr>\n",
       "      <th>1942</th>\n",
       "      <td>2019-10-22</td>\n",
       "      <td>24754.02</td>\n",
       "      <td>NAA8</td>\n",
       "      <td>7</td>\n",
       "      <td>10</td>\n",
       "      <td>22</td>\n",
       "      <td>10</td>\n",
       "      <td>200759082.0</td>\n",
       "      <td>1</td>\n",
       "    </tr>\n",
       "    <tr>\n",
       "      <th>49835</th>\n",
       "      <td>2019-10-22</td>\n",
       "      <td>172589.64</td>\n",
       "      <td>NAC6</td>\n",
       "      <td>7</td>\n",
       "      <td>10</td>\n",
       "      <td>22</td>\n",
       "      <td>10</td>\n",
       "      <td>200762301.0</td>\n",
       "      <td>1</td>\n",
       "    </tr>\n",
       "    <tr>\n",
       "      <th>47103</th>\n",
       "      <td>2019-11-18</td>\n",
       "      <td>38528.00</td>\n",
       "      <td>NAWU</td>\n",
       "      <td>7</td>\n",
       "      <td>10</td>\n",
       "      <td>16</td>\n",
       "      <td>11</td>\n",
       "      <td>200759878.0</td>\n",
       "      <td>1</td>\n",
       "    </tr>\n",
       "    <tr>\n",
       "      <th>42338</th>\n",
       "      <td>2019-10-23</td>\n",
       "      <td>50031.99</td>\n",
       "      <td>NAA8</td>\n",
       "      <td>7</td>\n",
       "      <td>10</td>\n",
       "      <td>22</td>\n",
       "      <td>10</td>\n",
       "      <td>200434439.0</td>\n",
       "      <td>1</td>\n",
       "    </tr>\n",
       "    <tr>\n",
       "      <th>33658</th>\n",
       "      <td>2019-10-24</td>\n",
       "      <td>1057.48</td>\n",
       "      <td>NAA8</td>\n",
       "      <td>7</td>\n",
       "      <td>10</td>\n",
       "      <td>22</td>\n",
       "      <td>10</td>\n",
       "      <td>200780825.0</td>\n",
       "      <td>1</td>\n",
       "    </tr>\n",
       "  </tbody>\n",
       "</table>\n",
       "<p>27997 rows × 9 columns</p>\n",
       "</div>"
      ],
      "text/plain": [
       "      clear_date  total_open_amount cust_payment_terms  posting_day  \\\n",
       "17651 2019-01-17           31227.25               NAH4           30   \n",
       "7313  2019-01-10           27642.47               NAH4           30   \n",
       "24571 2019-01-22           36285.96               NAA8           30   \n",
       "40463 2019-01-15             205.13               NAA8           30   \n",
       "14041 2019-01-14           80755.03               NAA8           30   \n",
       "...          ...                ...                ...          ...   \n",
       "1942  2019-10-22           24754.02               NAA8            7   \n",
       "49835 2019-10-22          172589.64               NAC6            7   \n",
       "47103 2019-11-18           38528.00               NAWU            7   \n",
       "42338 2019-10-23           50031.99               NAA8            7   \n",
       "33658 2019-10-24            1057.48               NAA8            7   \n",
       "\n",
       "       posting_month  due_in_day  due_in_month      cust_no  B_code  \n",
       "17651             12          14             1  200769623.0       1  \n",
       "7313              12          14             1  200769623.0       1  \n",
       "24571             12          14             1  200744019.0       1  \n",
       "40463             12          14             1  200726979.0       1  \n",
       "14041             12          14             1  200705372.0       1  \n",
       "...              ...         ...           ...          ...     ...  \n",
       "1942              10          22            10  200759082.0       1  \n",
       "49835             10          22            10  200762301.0       1  \n",
       "47103             10          16            11  200759878.0       1  \n",
       "42338             10          22            10  200434439.0       1  \n",
       "33658             10          22            10  200780825.0       1  \n",
       "\n",
       "[27997 rows x 9 columns]"
      ]
     },
     "execution_count": 2446,
     "metadata": {},
     "output_type": "execute_result"
    }
   ],
   "source": [
    "X_train"
   ]
  },
  {
   "cell_type": "code",
   "execution_count": 2447,
   "id": "4e4c7370",
   "metadata": {},
   "outputs": [
    {
     "data": {
      "text/html": [
       "<div>\n",
       "<style scoped>\n",
       "    .dataframe tbody tr th:only-of-type {\n",
       "        vertical-align: middle;\n",
       "    }\n",
       "\n",
       "    .dataframe tbody tr th {\n",
       "        vertical-align: top;\n",
       "    }\n",
       "\n",
       "    .dataframe thead th {\n",
       "        text-align: right;\n",
       "    }\n",
       "</style>\n",
       "<table border=\"1\" class=\"dataframe\">\n",
       "  <thead>\n",
       "    <tr style=\"text-align: right;\">\n",
       "      <th></th>\n",
       "      <th>clear_date</th>\n",
       "      <th>total_open_amount</th>\n",
       "      <th>posting_day</th>\n",
       "      <th>posting_month</th>\n",
       "      <th>due_in_day</th>\n",
       "      <th>due_in_month</th>\n",
       "      <th>cust_no</th>\n",
       "      <th>B_code</th>\n",
       "    </tr>\n",
       "  </thead>\n",
       "  <tbody>\n",
       "    <tr>\n",
       "      <th>17651</th>\n",
       "      <td>2019-01-17</td>\n",
       "      <td>31227.25</td>\n",
       "      <td>30</td>\n",
       "      <td>12</td>\n",
       "      <td>14</td>\n",
       "      <td>1</td>\n",
       "      <td>200769623.0</td>\n",
       "      <td>1</td>\n",
       "    </tr>\n",
       "    <tr>\n",
       "      <th>7313</th>\n",
       "      <td>2019-01-10</td>\n",
       "      <td>27642.47</td>\n",
       "      <td>30</td>\n",
       "      <td>12</td>\n",
       "      <td>14</td>\n",
       "      <td>1</td>\n",
       "      <td>200769623.0</td>\n",
       "      <td>1</td>\n",
       "    </tr>\n",
       "    <tr>\n",
       "      <th>24571</th>\n",
       "      <td>2019-01-22</td>\n",
       "      <td>36285.96</td>\n",
       "      <td>30</td>\n",
       "      <td>12</td>\n",
       "      <td>14</td>\n",
       "      <td>1</td>\n",
       "      <td>200744019.0</td>\n",
       "      <td>1</td>\n",
       "    </tr>\n",
       "    <tr>\n",
       "      <th>40463</th>\n",
       "      <td>2019-01-15</td>\n",
       "      <td>205.13</td>\n",
       "      <td>30</td>\n",
       "      <td>12</td>\n",
       "      <td>14</td>\n",
       "      <td>1</td>\n",
       "      <td>200726979.0</td>\n",
       "      <td>1</td>\n",
       "    </tr>\n",
       "    <tr>\n",
       "      <th>14041</th>\n",
       "      <td>2019-01-14</td>\n",
       "      <td>80755.03</td>\n",
       "      <td>30</td>\n",
       "      <td>12</td>\n",
       "      <td>14</td>\n",
       "      <td>1</td>\n",
       "      <td>200705372.0</td>\n",
       "      <td>1</td>\n",
       "    </tr>\n",
       "    <tr>\n",
       "      <th>...</th>\n",
       "      <td>...</td>\n",
       "      <td>...</td>\n",
       "      <td>...</td>\n",
       "      <td>...</td>\n",
       "      <td>...</td>\n",
       "      <td>...</td>\n",
       "      <td>...</td>\n",
       "      <td>...</td>\n",
       "    </tr>\n",
       "    <tr>\n",
       "      <th>1942</th>\n",
       "      <td>2019-10-22</td>\n",
       "      <td>24754.02</td>\n",
       "      <td>7</td>\n",
       "      <td>10</td>\n",
       "      <td>22</td>\n",
       "      <td>10</td>\n",
       "      <td>200759082.0</td>\n",
       "      <td>1</td>\n",
       "    </tr>\n",
       "    <tr>\n",
       "      <th>49835</th>\n",
       "      <td>2019-10-22</td>\n",
       "      <td>172589.64</td>\n",
       "      <td>7</td>\n",
       "      <td>10</td>\n",
       "      <td>22</td>\n",
       "      <td>10</td>\n",
       "      <td>200762301.0</td>\n",
       "      <td>1</td>\n",
       "    </tr>\n",
       "    <tr>\n",
       "      <th>47103</th>\n",
       "      <td>2019-11-18</td>\n",
       "      <td>38528.00</td>\n",
       "      <td>7</td>\n",
       "      <td>10</td>\n",
       "      <td>16</td>\n",
       "      <td>11</td>\n",
       "      <td>200759878.0</td>\n",
       "      <td>1</td>\n",
       "    </tr>\n",
       "    <tr>\n",
       "      <th>42338</th>\n",
       "      <td>2019-10-23</td>\n",
       "      <td>50031.99</td>\n",
       "      <td>7</td>\n",
       "      <td>10</td>\n",
       "      <td>22</td>\n",
       "      <td>10</td>\n",
       "      <td>200434439.0</td>\n",
       "      <td>1</td>\n",
       "    </tr>\n",
       "    <tr>\n",
       "      <th>33658</th>\n",
       "      <td>2019-10-24</td>\n",
       "      <td>1057.48</td>\n",
       "      <td>7</td>\n",
       "      <td>10</td>\n",
       "      <td>22</td>\n",
       "      <td>10</td>\n",
       "      <td>200780825.0</td>\n",
       "      <td>1</td>\n",
       "    </tr>\n",
       "  </tbody>\n",
       "</table>\n",
       "<p>27997 rows × 8 columns</p>\n",
       "</div>"
      ],
      "text/plain": [
       "      clear_date  total_open_amount  posting_day  posting_month  due_in_day  \\\n",
       "17651 2019-01-17           31227.25           30             12          14   \n",
       "7313  2019-01-10           27642.47           30             12          14   \n",
       "24571 2019-01-22           36285.96           30             12          14   \n",
       "40463 2019-01-15             205.13           30             12          14   \n",
       "14041 2019-01-14           80755.03           30             12          14   \n",
       "...          ...                ...          ...            ...         ...   \n",
       "1942  2019-10-22           24754.02            7             10          22   \n",
       "49835 2019-10-22          172589.64            7             10          22   \n",
       "47103 2019-11-18           38528.00            7             10          16   \n",
       "42338 2019-10-23           50031.99            7             10          22   \n",
       "33658 2019-10-24            1057.48            7             10          22   \n",
       "\n",
       "       due_in_month      cust_no  B_code  \n",
       "17651             1  200769623.0       1  \n",
       "7313              1  200769623.0       1  \n",
       "24571             1  200744019.0       1  \n",
       "40463             1  200726979.0       1  \n",
       "14041             1  200705372.0       1  \n",
       "...             ...          ...     ...  \n",
       "1942             10  200759082.0       1  \n",
       "49835            10  200762301.0       1  \n",
       "47103            11  200759878.0       1  \n",
       "42338            10  200434439.0       1  \n",
       "33658            10  200780825.0       1  \n",
       "\n",
       "[27997 rows x 8 columns]"
      ]
     },
     "execution_count": 2447,
     "metadata": {},
     "output_type": "execute_result"
    }
   ],
   "source": [
    "X_train.drop(['cust_payment_terms'],axis=1, inplace=True)\n",
    "X_val.drop(['cust_payment_terms'],axis=1, inplace=True)\n",
    "X_test.drop(['cust_payment_terms'],axis=1, inplace=True)\n",
    "X_train"
   ]
  },
  {
   "cell_type": "markdown",
   "id": "1fff8ad7",
   "metadata": {},
   "source": [
    "## 6.2 Feature Selection"
   ]
  },
  {
   "cell_type": "markdown",
   "id": "ce975efc",
   "metadata": {},
   "source": [
    "### Our main criterias while feature selection should be:\n",
    "###  1. int or float datatype\n",
    "###  2. should be useful in the prediction\n",
    "###  3. shouldn't be a high level or complex featur"
   ]
  },
  {
   "cell_type": "code",
   "execution_count": 2448,
   "id": "466acf8e",
   "metadata": {},
   "outputs": [
    {
     "data": {
      "text/plain": [
       "((27997, 8), (6000, 8), (6000, 8))"
      ]
     },
     "execution_count": 2448,
     "metadata": {},
     "output_type": "execute_result"
    }
   ],
   "source": [
    "X_train.shape, X_val.shape, X_test.shape"
   ]
  },
  {
   "cell_type": "code",
   "execution_count": 2449,
   "id": "f00b7a8f",
   "metadata": {},
   "outputs": [
    {
     "name": "stdout",
     "output_type": "stream",
     "text": [
      "<class 'pandas.core.frame.DataFrame'>\n",
      "Int64Index: 27997 entries, 17651 to 33658\n",
      "Data columns (total 8 columns):\n",
      " #   Column             Non-Null Count  Dtype         \n",
      "---  ------             --------------  -----         \n",
      " 0   clear_date         27997 non-null  datetime64[ns]\n",
      " 1   total_open_amount  27997 non-null  float64       \n",
      " 2   posting_day        27997 non-null  int64         \n",
      " 3   posting_month      27997 non-null  int64         \n",
      " 4   due_in_day         27997 non-null  int64         \n",
      " 5   due_in_month       27997 non-null  int64         \n",
      " 6   cust_no            27997 non-null  float64       \n",
      " 7   B_code             27997 non-null  int32         \n",
      "dtypes: datetime64[ns](1), float64(2), int32(1), int64(4)\n",
      "memory usage: 2.8 MB\n"
     ]
    }
   ],
   "source": [
    "X_train.info()"
   ]
  },
  {
   "cell_type": "code",
   "execution_count": 2450,
   "id": "0b161fb3",
   "metadata": {},
   "outputs": [],
   "source": [
    "X_train.drop(['clear_date'],axis=1,inplace=True)  #dropped the clear_date to check the correlation on heat map \n",
    "X_test.drop(['clear_date'],axis=1,inplace=True)\n",
    "X_val.drop(['clear_date'],axis=1,inplace=True)"
   ]
  },
  {
   "cell_type": "code",
   "execution_count": 2451,
   "id": "57f79bc9",
   "metadata": {},
   "outputs": [
    {
     "name": "stdout",
     "output_type": "stream",
     "text": [
      "<class 'pandas.core.frame.DataFrame'>\n",
      "Int64Index: 27997 entries, 17651 to 33658\n",
      "Data columns (total 7 columns):\n",
      " #   Column             Non-Null Count  Dtype  \n",
      "---  ------             --------------  -----  \n",
      " 0   total_open_amount  27997 non-null  float64\n",
      " 1   posting_day        27997 non-null  int64  \n",
      " 2   posting_month      27997 non-null  int64  \n",
      " 3   due_in_day         27997 non-null  int64  \n",
      " 4   due_in_month       27997 non-null  int64  \n",
      " 5   cust_no            27997 non-null  float64\n",
      " 6   B_code             27997 non-null  int32  \n",
      "dtypes: float64(2), int32(1), int64(4)\n",
      "memory usage: 2.6 MB\n"
     ]
    },
    {
     "data": {
      "text/plain": [
       "<AxesSubplot:>"
      ]
     },
     "execution_count": 2451,
     "metadata": {},
     "output_type": "execute_result"
    },
    {
     "data": {
      "image/png": "[encoded data removed]",
      "text/plain": [
       "<Figure size 1008x864 with 2 Axes>"
      ]
     },
     "metadata": {
      "needs_background": "light"
     },
     "output_type": "display_data"
    }
   ],
   "source": [
    "X_train.info()\n",
    "plt.figure(figsize=(14,12))\n",
    "cor=X_train.corr()\n",
    "sns.heatmap(cor,annot=True)"
   ]
  },
  {
   "cell_type": "markdown",
   "id": "a0bd229c",
   "metadata": {},
   "source": [
    "#### From the above heatmap, we can see that the due_in_month and the posting_month are highly correlated raising a negative impact on our model. So, I will drop the due_in_month."
   ]
  },
  {
   "cell_type": "code",
   "execution_count": 2452,
   "id": "4a622972",
   "metadata": {},
   "outputs": [],
   "source": [
    "X_train=X_train.drop(['due_in_month'],axis=1).copy()\n",
    "X_val=X_val.drop(['due_in_month'],axis=1).copy()\n",
    "X_test=X_test.drop(['due_in_month'],axis=1).copy()"
   ]
  },
  {
   "cell_type": "code",
   "execution_count": 2453,
   "id": "2afb577f",
   "metadata": {},
   "outputs": [
    {
     "data": {
      "text/plain": [
       "VarianceThreshold(threshold=0.8)"
      ]
     },
     "execution_count": 2453,
     "metadata": {},
     "output_type": "execute_result"
    }
   ],
   "source": [
    "# we can use a variance threshold since all of our features are either of int or float type\n",
    "from sklearn.feature_selection import VarianceThreshold\n",
    "var=VarianceThreshold(0.8)\n",
    "var.fit(X_train)"
   ]
  },
  {
   "cell_type": "code",
   "execution_count": 2454,
   "id": "6184168d",
   "metadata": {},
   "outputs": [
    {
     "data": {
      "text/plain": [
       "array([1.57040519e+09, 7.80290539e+01, 7.04410432e+00, 7.56124619e+01,\n",
       "       1.87048289e+15, 3.22373610e-01])"
      ]
     },
     "execution_count": 2454,
     "metadata": {},
     "output_type": "execute_result"
    }
   ],
   "source": [
    "var.variances_"
   ]
  },
  {
   "cell_type": "markdown",
   "id": "9e5cb9dc",
   "metadata": {},
   "source": [
    "## 7. Modelling"
   ]
  },
  {
   "cell_type": "markdown",
   "id": "cb5cad2c",
   "metadata": {},
   "source": [
    "#### I will try different model on my validation set and then will come to the conclusion which model is a better selector for my data.\n",
    "\n",
    "### Linear Regression"
   ]
  },
  {
   "cell_type": "code",
   "execution_count": 2455,
   "id": "ef2cd80a",
   "metadata": {},
   "outputs": [
    {
     "name": "stdout",
     "output_type": "stream",
     "text": [
      "Mean absolute error = 4.09\n",
      "Mean squared error = 48.44\n",
      "Median absolute error = 2.56\n",
      "Explain variance score = 0.09\n",
      "R2 score = 0.08\n",
      "Accuracy=  0.08471114678152625\n"
     ]
    }
   ],
   "source": [
    "from sklearn.linear_model import LinearRegression\n",
    "initial_model=LinearRegression()\n",
    "initial_model.fit(X_train, Y_train)\n",
    "Y_predict=initial_model.predict(X_val)\n",
    "import sklearn.metrics as sm\n",
    "print(\"Mean absolute error =\", round(sm.mean_absolute_error(Y_val, Y_predict), 2)) \n",
    "print(\"Mean squared error =\", round(sm.mean_squared_error(Y_val, Y_predict), 2)) \n",
    "print(\"Median absolute error =\", round(sm.median_absolute_error(Y_val, Y_predict), 2)) \n",
    "print(\"Explain variance score =\", round(sm.explained_variance_score(Y_val, Y_predict), 2)) \n",
    "print(\"R2 score =\", round(sm.r2_score(Y_val, Y_predict), 2))\n",
    "print(\"Accuracy= \", initial_model.score(X_val,Y_val))"
   ]
  },
  {
   "cell_type": "markdown",
   "id": "f7d06458",
   "metadata": {},
   "source": [
    "### RandomForest"
   ]
  },
  {
   "cell_type": "code",
   "execution_count": 2456,
   "id": "0ef34bd7",
   "metadata": {},
   "outputs": [
    {
     "name": "stdout",
     "output_type": "stream",
     "text": [
      "Mean absolute error = 3.54\n",
      "Mean squared error = 43.36\n",
      "Median absolute error = 1.93\n",
      "Explain variance score = 0.2\n",
      "R2 score = 0.18\n",
      "Accuracy=  0.1806988002845984\n"
     ]
    }
   ],
   "source": [
    "from sklearn.ensemble import RandomForestRegressor\n",
    "initial_model2=RandomForestRegressor()\n",
    "initial_model2.fit(X_train, Y_train)\n",
    "Y_predict1=initial_model2.predict(X_val)\n",
    "print(\"Mean absolute error =\", round(sm.mean_absolute_error(Y_val, Y_predict1), 2)) \n",
    "print(\"Mean squared error =\", round(sm.mean_squared_error(Y_val, Y_predict1), 2)) \n",
    "print(\"Median absolute error =\", round(sm.median_absolute_error(Y_val, Y_predict1), 2)) \n",
    "print(\"Explain variance score =\", round(sm.explained_variance_score(Y_val, Y_predict1), 2)) \n",
    "print(\"R2 score =\", round(sm.r2_score(Y_val, Y_predict1), 2))\n",
    "print(\"Accuracy= \", initial_model2.score(X_val,Y_val))\n"
   ]
  },
  {
   "cell_type": "markdown",
   "id": "cd136ec8",
   "metadata": {},
   "source": [
    "### DecisionTree "
   ]
  },
  {
   "cell_type": "code",
   "execution_count": 2457,
   "id": "c70340f3",
   "metadata": {},
   "outputs": [
    {
     "name": "stdout",
     "output_type": "stream",
     "text": [
      "Mean absolute error = 4.57\n",
      "Mean squared error = 105.34\n",
      "Median absolute error = 2.0\n",
      "Explain variance score = -0.97\n",
      "R2 score = -0.99\n",
      "Accuracy=  -0.9903812370464522\n"
     ]
    }
   ],
   "source": [
    "from sklearn.tree import DecisionTreeRegressor\n",
    "initial_model3 = DecisionTreeRegressor()\n",
    "initial_model3.fit(X_train, Y_train)\n",
    "Y_predict1=initial_model3.predict(X_val)\n",
    "print(\"Mean absolute error =\", round(sm.mean_absolute_error(Y_val, Y_predict1), 2)) \n",
    "print(\"Mean squared error =\", round(sm.mean_squared_error(Y_val, Y_predict1), 2)) \n",
    "print(\"Median absolute error =\", round(sm.median_absolute_error(Y_val, Y_predict1), 2)) \n",
    "print(\"Explain variance score =\", round(sm.explained_variance_score(Y_val, Y_predict1), 2)) \n",
    "print(\"R2 score =\", round(sm.r2_score(Y_val, Y_predict1), 2))\n",
    "print(\"Accuracy= \", initial_model3.score(X_val,Y_val))"
   ]
  },
  {
   "cell_type": "markdown",
   "id": "2fb7ae91",
   "metadata": {},
   "source": [
    "## 8. Prediction"
   ]
  },
  {
   "cell_type": "markdown",
   "id": "66894fbb",
   "metadata": {},
   "source": [
    "#### After applying these 3 models to my data, I decided to go with RandomForest Model as it had the best accuracy with a postive R2 score and lesser error."
   ]
  },
  {
   "cell_type": "code",
   "execution_count": 474,
   "id": "0a5b3ef3",
   "metadata": {},
   "outputs": [
    {
     "data": {
      "text/plain": [
       "array([  9,  -1,   1, ...,  -3, -11,   1])"
      ]
     },
     "execution_count": 474,
     "metadata": {},
     "output_type": "execute_result"
    }
   ],
   "source": [
    "predicted_delay=initial_model2.predict(X_test)\n",
    "predicted_delay=np.around(predicted_delay)\n",
    "predicted_delay.astype(int)"
   ]
  },
  {
   "cell_type": "code",
   "execution_count": 2459,
   "id": "ff15e26a",
   "metadata": {},
   "outputs": [
    {
     "data": {
      "text/plain": [
       "6000"
      ]
     },
     "execution_count": 2459,
     "metadata": {},
     "output_type": "execute_result"
    }
   ],
   "source": [
    "len(predicted_delay)   #all the values of testing set are predicted and now we will create a dataframe for our output."
   ]
  },
  {
   "cell_type": "code",
   "execution_count": 2460,
   "id": "429a2ad9",
   "metadata": {},
   "outputs": [],
   "source": [
    "new=pd.DataFrame()  #creation of dataframe"
   ]
  },
  {
   "cell_type": "code",
   "execution_count": 2461,
   "id": "c964f819",
   "metadata": {},
   "outputs": [
    {
     "data": {
      "text/html": [
       "<div>\n",
       "<style scoped>\n",
       "    .dataframe tbody tr th:only-of-type {\n",
       "        vertical-align: middle;\n",
       "    }\n",
       "\n",
       "    .dataframe tbody tr th {\n",
       "        vertical-align: top;\n",
       "    }\n",
       "\n",
       "    .dataframe thead th {\n",
       "        text-align: right;\n",
       "    }\n",
       "</style>\n",
       "<table border=\"1\" class=\"dataframe\">\n",
       "  <thead>\n",
       "    <tr style=\"text-align: right;\">\n",
       "      <th></th>\n",
       "      <th>Delay</th>\n",
       "    </tr>\n",
       "  </thead>\n",
       "  <tbody>\n",
       "    <tr>\n",
       "      <th>0</th>\n",
       "      <td>5 days</td>\n",
       "    </tr>\n",
       "    <tr>\n",
       "      <th>1</th>\n",
       "      <td>-2 days</td>\n",
       "    </tr>\n",
       "    <tr>\n",
       "      <th>2</th>\n",
       "      <td>1 days</td>\n",
       "    </tr>\n",
       "    <tr>\n",
       "      <th>3</th>\n",
       "      <td>2 days</td>\n",
       "    </tr>\n",
       "    <tr>\n",
       "      <th>4</th>\n",
       "      <td>2 days</td>\n",
       "    </tr>\n",
       "    <tr>\n",
       "      <th>...</th>\n",
       "      <td>...</td>\n",
       "    </tr>\n",
       "    <tr>\n",
       "      <th>5995</th>\n",
       "      <td>-1 days</td>\n",
       "    </tr>\n",
       "    <tr>\n",
       "      <th>5996</th>\n",
       "      <td>1 days</td>\n",
       "    </tr>\n",
       "    <tr>\n",
       "      <th>5997</th>\n",
       "      <td>-3 days</td>\n",
       "    </tr>\n",
       "    <tr>\n",
       "      <th>5998</th>\n",
       "      <td>-10 days</td>\n",
       "    </tr>\n",
       "    <tr>\n",
       "      <th>5999</th>\n",
       "      <td>1 days</td>\n",
       "    </tr>\n",
       "  </tbody>\n",
       "</table>\n",
       "<p>6000 rows × 1 columns</p>\n",
       "</div>"
      ],
      "text/plain": [
       "        Delay\n",
       "0      5 days\n",
       "1     -2 days\n",
       "2      1 days\n",
       "3      2 days\n",
       "4      2 days\n",
       "...       ...\n",
       "5995  -1 days\n",
       "5996   1 days\n",
       "5997  -3 days\n",
       "5998 -10 days\n",
       "5999   1 days\n",
       "\n",
       "[6000 rows x 1 columns]"
      ]
     },
     "execution_count": 2461,
     "metadata": {},
     "output_type": "execute_result"
    }
   ],
   "source": [
    "Delay=[]                                          \n",
    "for i in predicted_delay:\n",
    "    Delay.append(pd.Timedelta(days=i))\n",
    "new['Delay']=Delay                             #putting values from predicted_delay(array) to the delay column of new df\n",
    "new"
   ]
  },
  {
   "cell_type": "code",
   "execution_count": 2462,
   "id": "9b7ff3f8",
   "metadata": {},
   "outputs": [
    {
     "data": {
      "text/html": [
       "<div>\n",
       "<style scoped>\n",
       "    .dataframe tbody tr th:only-of-type {\n",
       "        vertical-align: middle;\n",
       "    }\n",
       "\n",
       "    .dataframe tbody tr th {\n",
       "        vertical-align: top;\n",
       "    }\n",
       "\n",
       "    .dataframe thead th {\n",
       "        text-align: right;\n",
       "    }\n",
       "</style>\n",
       "<table border=\"1\" class=\"dataframe\">\n",
       "  <thead>\n",
       "    <tr style=\"text-align: right;\">\n",
       "      <th></th>\n",
       "      <th>Delay</th>\n",
       "      <th>Clear_Date</th>\n",
       "    </tr>\n",
       "  </thead>\n",
       "  <tbody>\n",
       "    <tr>\n",
       "      <th>0</th>\n",
       "      <td>5 days</td>\n",
       "      <td>2020-03-18</td>\n",
       "    </tr>\n",
       "    <tr>\n",
       "      <th>1</th>\n",
       "      <td>-2 days</td>\n",
       "      <td>2020-03-11</td>\n",
       "    </tr>\n",
       "    <tr>\n",
       "      <th>2</th>\n",
       "      <td>1 days</td>\n",
       "      <td>2020-03-14</td>\n",
       "    </tr>\n",
       "    <tr>\n",
       "      <th>3</th>\n",
       "      <td>2 days</td>\n",
       "      <td>2020-03-15</td>\n",
       "    </tr>\n",
       "    <tr>\n",
       "      <th>4</th>\n",
       "      <td>2 days</td>\n",
       "      <td>2020-03-15</td>\n",
       "    </tr>\n",
       "    <tr>\n",
       "      <th>...</th>\n",
       "      <td>...</td>\n",
       "      <td>...</td>\n",
       "    </tr>\n",
       "    <tr>\n",
       "      <th>5995</th>\n",
       "      <td>-1 days</td>\n",
       "      <td>2020-04-15</td>\n",
       "    </tr>\n",
       "    <tr>\n",
       "      <th>5996</th>\n",
       "      <td>1 days</td>\n",
       "      <td>2020-04-22</td>\n",
       "    </tr>\n",
       "    <tr>\n",
       "      <th>5997</th>\n",
       "      <td>-3 days</td>\n",
       "      <td>2020-04-24</td>\n",
       "    </tr>\n",
       "    <tr>\n",
       "      <th>5998</th>\n",
       "      <td>-10 days</td>\n",
       "      <td>2020-04-11</td>\n",
       "    </tr>\n",
       "    <tr>\n",
       "      <th>5999</th>\n",
       "      <td>1 days</td>\n",
       "      <td>2020-05-07</td>\n",
       "    </tr>\n",
       "  </tbody>\n",
       "</table>\n",
       "<p>6000 rows × 2 columns</p>\n",
       "</div>"
      ],
      "text/plain": [
       "        Delay Clear_Date\n",
       "0      5 days 2020-03-18\n",
       "1     -2 days 2020-03-11\n",
       "2      1 days 2020-03-14\n",
       "3      2 days 2020-03-15\n",
       "4      2 days 2020-03-15\n",
       "...       ...        ...\n",
       "5995  -1 days 2020-04-15\n",
       "5996   1 days 2020-04-22\n",
       "5997  -3 days 2020-04-24\n",
       "5998 -10 days 2020-04-11\n",
       "5999   1 days 2020-05-07\n",
       "\n",
       "[6000 rows x 2 columns]"
      ]
     },
     "execution_count": 2462,
     "metadata": {},
     "output_type": "execute_result"
    }
   ],
   "source": [
    "new['Clear_Date']=mt['due_in_date']+new['Delay']  #creating another column to predict the null clear_dates\n",
    "new"
   ]
  },
  {
   "cell_type": "code",
   "execution_count": 2463,
   "id": "46692b13",
   "metadata": {},
   "outputs": [
    {
     "data": {
      "text/html": [
       "<div>\n",
       "<style scoped>\n",
       "    .dataframe tbody tr th:only-of-type {\n",
       "        vertical-align: middle;\n",
       "    }\n",
       "\n",
       "    .dataframe tbody tr th {\n",
       "        vertical-align: top;\n",
       "    }\n",
       "\n",
       "    .dataframe thead th {\n",
       "        text-align: right;\n",
       "    }\n",
       "</style>\n",
       "<table border=\"1\" class=\"dataframe\">\n",
       "  <thead>\n",
       "    <tr style=\"text-align: right;\">\n",
       "      <th></th>\n",
       "      <th>Clear_Date</th>\n",
       "      <th>bucket</th>\n",
       "    </tr>\n",
       "  </thead>\n",
       "  <tbody>\n",
       "    <tr>\n",
       "      <th>0</th>\n",
       "      <td>2020-03-18</td>\n",
       "      <td>0-15 days</td>\n",
       "    </tr>\n",
       "    <tr>\n",
       "      <th>1</th>\n",
       "      <td>2020-03-11</td>\n",
       "      <td>0-15 days</td>\n",
       "    </tr>\n",
       "    <tr>\n",
       "      <th>2</th>\n",
       "      <td>2020-03-14</td>\n",
       "      <td>0-15 days</td>\n",
       "    </tr>\n",
       "    <tr>\n",
       "      <th>3</th>\n",
       "      <td>2020-03-15</td>\n",
       "      <td>0-15 days</td>\n",
       "    </tr>\n",
       "    <tr>\n",
       "      <th>4</th>\n",
       "      <td>2020-03-15</td>\n",
       "      <td>0-15 days</td>\n",
       "    </tr>\n",
       "    <tr>\n",
       "      <th>...</th>\n",
       "      <td>...</td>\n",
       "      <td>...</td>\n",
       "    </tr>\n",
       "    <tr>\n",
       "      <th>5995</th>\n",
       "      <td>2020-04-15</td>\n",
       "      <td>0-15 days</td>\n",
       "    </tr>\n",
       "    <tr>\n",
       "      <th>5996</th>\n",
       "      <td>2020-04-22</td>\n",
       "      <td>0-15 days</td>\n",
       "    </tr>\n",
       "    <tr>\n",
       "      <th>5997</th>\n",
       "      <td>2020-04-24</td>\n",
       "      <td>0-15 days</td>\n",
       "    </tr>\n",
       "    <tr>\n",
       "      <th>5998</th>\n",
       "      <td>2020-04-11</td>\n",
       "      <td>0-15 days</td>\n",
       "    </tr>\n",
       "    <tr>\n",
       "      <th>5999</th>\n",
       "      <td>2020-05-07</td>\n",
       "      <td>0-15 days</td>\n",
       "    </tr>\n",
       "  </tbody>\n",
       "</table>\n",
       "<p>6000 rows × 2 columns</p>\n",
       "</div>"
      ],
      "text/plain": [
       "     Clear_Date     bucket\n",
       "0    2020-03-18  0-15 days\n",
       "1    2020-03-11  0-15 days\n",
       "2    2020-03-14  0-15 days\n",
       "3    2020-03-15  0-15 days\n",
       "4    2020-03-15  0-15 days\n",
       "...         ...        ...\n",
       "5995 2020-04-15  0-15 days\n",
       "5996 2020-04-22  0-15 days\n",
       "5997 2020-04-24  0-15 days\n",
       "5998 2020-04-11  0-15 days\n",
       "5999 2020-05-07  0-15 days\n",
       "\n",
       "[6000 rows x 2 columns]"
      ]
     },
     "execution_count": 2463,
     "metadata": {},
     "output_type": "execute_result"
    }
   ],
   "source": [
    "bucket=[]            #creating buckets to divide the delay into categories\n",
    "for i in predicted_delay:\n",
    "    if i<=15:\n",
    "        bucket.append(\"0-15 days\")\n",
    "    elif i<=30:\n",
    "        bucket.append(\"16-30 days\")\n",
    "    elif i<=45:\n",
    "        bucket.append(\"31-45 days\")\n",
    "    elif i<=60:\n",
    "        bucket.append(\"46-60 days\")\n",
    "    else:\n",
    "        bucket.append(\"Greater than 60 days\")\n",
    "        \n",
    "new['bucket']=bucket                     #attaching bucket to new dataframe\n",
    "new.drop(['Delay'],axis=1,inplace=True)    #removing the delay column\n",
    "new"
   ]
  },
  {
   "cell_type": "code",
   "execution_count": 2464,
   "id": "d08e4516",
   "metadata": {},
   "outputs": [
    {
     "data": {
      "text/plain": [
       "0-15 days               5799\n",
       "16-30 days                90\n",
       "31-45 days                61\n",
       "46-60 days                39\n",
       "Greater than 60 days      11\n",
       "Name: bucket, dtype: int64"
      ]
     },
     "execution_count": 2464,
     "metadata": {},
     "output_type": "execute_result"
    }
   ],
   "source": [
    "new['bucket'].value_counts()          #counting the number of ocuurence in each bucket"
   ]
  }
 ],
 "metadata": {
  "kernelspec": {
   "display_name": "Python 3",
   "language": "python",
   "name": "python3"
  },
  "language_info": {
   "codemirror_mode": {
    "name": "ipython",
    "version": 3
   },
   "file_extension": ".py",
   "mimetype": "text/x-python",
   "name": "python",
   "nbconvert_exporter": "python",
   "pygments_lexer": "ipython3",
   "version": "3.7.7"
  }
 },
 "nbformat": 4,
 "nbformat_minor": 5
}
